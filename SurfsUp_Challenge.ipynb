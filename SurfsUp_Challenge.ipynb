{
 "cells": [
  {
   "cell_type": "code",
   "execution_count": 1,
   "id": "0a56d530",
   "metadata": {},
   "outputs": [],
   "source": [
    "# Dependencies\n",
    "import numpy as np\n",
    "\n",
    "import pandas as pd\n",
    "import datetime as dt\n",
    "    \n",
    "import matplotlib.pyplot as plt\n",
    "from matplotlib import style\n",
    "style.use('fivethirtyeight')\n",
    "    \n",
    "# Python SQL toolkit and Object Relational Mapper\n",
    "import sqlalchemy\n",
    "from sqlalchemy.ext.automap import automap_base\n",
    "from sqlalchemy.orm import Session\n",
    "from sqlalchemy import create_engine, inspect, func"
   ]
  },
  {
   "cell_type": "code",
   "execution_count": 2,
   "id": "93fc2633",
   "metadata": {},
   "outputs": [],
   "source": [
    "engine = create_engine(\"sqlite:///hawaii.sqlite\")\n",
    "\n",
    "# reflect an existing database into a new model\n",
    "Base = automap_base()\n",
    "\n",
    "# reflect the tables\n",
    "Base.prepare(engine, reflect=True)\n",
    "\n",
    "# Save references to each table\n",
    "Measurement = Base.classes.measurement\n",
    "Station = Base.classes.station"
   ]
  },
  {
   "cell_type": "code",
   "execution_count": 3,
   "id": "ef9e8257",
   "metadata": {},
   "outputs": [],
   "source": [
    "# Create our session (link) from Python to the DB\n",
    "session = Session(engine)"
   ]
  },
  {
   "cell_type": "markdown",
   "id": "3aa7f2e4",
   "metadata": {},
   "source": [
    "# D1: Determine the Summary Statistics for June"
   ]
  },
  {
   "cell_type": "code",
   "execution_count": 4,
   "id": "ac099a83",
   "metadata": {},
   "outputs": [
    {
     "data": {
      "text/plain": [
       "<sqlalchemy.orm.query.Query at 0x229af1f0a30>"
      ]
     },
     "execution_count": 4,
     "metadata": {},
     "output_type": "execute_result"
    }
   ],
   "source": [
    "# 1. Import the sqlalchemy extract function\n",
    "from sqlalchemy import extract\n",
    "\n",
    "# 2. Write a query that filters the Measurement table to retrieve the temperatures for the month of June\n",
    "june_temp = []\n",
    "june_temp = session.query(Measurement).filter(func.extract('month',Measurement.date) == 6)\n",
    "june_temp"
   ]
  },
  {
   "cell_type": "markdown",
   "id": "0233518b",
   "metadata": {},
   "source": [
    "# June Temperatures"
   ]
  },
  {
   "cell_type": "code",
   "execution_count": 5,
   "id": "aba497f1",
   "metadata": {},
   "outputs": [
    {
     "name": "stdout",
     "output_type": "stream",
     "text": [
      "[78.0, 76.0, 78.0, 76.0, 77.0, 78.0, 77.0, 78.0, 78.0, 79.0, 78.0, 78.0, 78.0, 77.0, 78.0, 78.0, 77.0, 77.0, 82.0, 78.0, 78.0, 78.0, 78.0, 78.0, 77.0, 76.0, 78.0, 78.0, 78.0, 78.0, 77.0, 78.0, 73.0, 70.0, 76.0, 77.0, 77.0, 77.0, 77.0, 78.0, 77.0, 77.0, 78.0, 78.0, 77.0, 78.0, 78.0, 75.0, 76.0, 76.0, 77.0, 78.0, 76.0, 77.0, 75.0, 77.0, 76.0, 76.0, 75.0, 77.0, 77.0, 76.0, 78.0, 77.0, 76.0, 77.0, 76.0, 76.0, 77.0, 77.0, 78.0, 77.0, 77.0, 77.0, 76.0, 75.0, 76.0, 76.0, 77.0, 76.0, 73.0, 73.0, 75.0, 77.0, 76.0, 77.0, 79.0, 78.0, 79.0, 78.0, 78.0, 79.0, 77.0, 77.0, 77.0, 77.0, 77.0, 78.0, 77.0, 76.0, 78.0, 78.0, 77.0, 78.0, 78.0, 73.0, 76.0, 77.0, 75.0, 76.0, 74.0, 75.0, 77.0, 76.0, 77.0, 78.0, 79.0, 77.0, 78.0, 79.0, 78.0, 78.0, 78.0, 78.0, 79.0, 79.0, 82.0, 80.0, 79.0, 79.0, 78.0, 78.0, 77.0, 78.0, 78.0, 73.0, 75.0, 75.0, 76.0, 84.0, 79.0, 76.0, 79.0, 79.0, 77.0, 79.0, 78.0, 78.0, 79.0, 77.0, 79.0, 78.0, 78.0, 78.0, 79.0, 77.0, 78.0, 78.0, 78.0, 78.0, 79.0, 79.0, 77.0, 78.0, 78.0, 78.0, 79.0, 79.0, 77.0, 79.0, 79.0, 79.0, 81.0, 76.0, 80.0, 78.0, 76.0, 71.0, 71.0, 74.0, 76.0, 78.0, 77.0, 77.0, 73.0, 77.0, 78.0, 78.0, 80.0, 79.0, 78.0, 77.0, 76.0, 77.0, 77.0, 78.0, 80.0, 79.0, 79.0, 77.0, 78.0, 79.0, 80.0, 76.0, 79.0, 80.0, 79.0, 79.0, 79.0, 79.0, 80.0, 79.0, 79.0, 80.0, 80.0, 77.0, 79.0, 83.0, 80.0, 80.0, 78.0, 79.0, 80.0, 77.0, 80.0, 78.0, 79.0, 80.0, 78.0, 80.0, 80.0, 81.0, 80.0, 79.0, 79.0, 75.0, 74.0, 76.0, 75.0, 75.0, 74.0, 75.0, 75.0, 75.0, 75.0, 75.0, 83.0, 75.0, 76.0, 73.0, 74.0, 74.0, 75.0, 70.0, 74.0, 75.0, 75.0, 75.0, 75.0, 75.0, 74.0, 72.0, 76.0, 73.0, 75.0, 76.0, 74.0, 75.0, 71.0, 69.0, 69.0, 74.0, 71.0, 74.0, 74.0, 75.0, 73.0, 73.0, 73.0, 75.0, 75.0, 74.0, 74.0, 75.0, 74.0, 73.0, 72.0, 74.0, 72.0, 75.0, 76.0, 74.0, 74.0, 74.0, 74.0, 74.0, 71.0, 71.0, 75.0, 72.0, 72.0, 73.0, 73.0, 73.0, 74.0, 73.0, 72.0, 72.0, 70.0, 72.0, 72.0, 72.0, 74.0, 73.0, 73.0, 70.0, 73.0, 72.0, 73.0, 69.0, 72.0, 71.0, 71.0, 73.0, 73.0, 72.0, 75.0, 75.0, 75.0, 75.0, 74.0, 74.0, 74.0, 75.0, 75.0, 74.0, 75.0, 75.0, 74.0, 72.0, 74.0, 74.0, 74.0, 74.0, 74.0, 72.0, 70.0, 75.0, 74.0, 71.0, 71.0, 70.0, 73.0, 71.0, 71.0, 77.0, 77.0, 74.0, 73.0, 75.0, 75.0, 74.0, 74.0, 75.0, 75.0, 72.0, 74.0, 76.0, 76.0, 75.0, 75.0, 74.0, 72.0, 74.0, 75.0, 70.0, 71.0, 72.0, 71.0, 73.0, 74.0, 72.0, 74.0, 76.0, 72.0, 75.0, 75.0, 72.0, 70.0, 76.0, 78.0, 72.0, 74.0, 74.0, 72.0, 71.0, 79.0, 79.0, 76.0, 75.0, 72.0, 74.0, 76.0, 76.0, 77.0, 75.0, 76.0, 75.0, 75.0, 76.0, 76.0, 74.0, 70.0, 69.0, 70.0, 68.0, 70.0, 74.0, 75.0, 74.0, 71.0, 73.0, 75.0, 74.0, 76.0, 76.0, 76.0, 76.0, 75.0, 75.0, 75.0, 74.0, 73.0, 76.0, 74.0, 78.0, 71.0, 75.0, 75.0, 74.0, 77.0, 77.0, 76.0, 76.0, 76.0, 78.0, 76.0, 75.0, 75.0, 76.0, 78.0, 75.0, 73.0, 76.0, 76.0, 76.0, 77.0, 76.0, 77.0, 72.0, 77.0, 75.0, 82.0, 77.0, 76.0, 74.0, 73.0, 77.0, 77.0, 77.0, 76.0, 74.0, 73.0, 72.0, 74.0, 73.0, 72.0, 75.0, 74.0, 75.0, 73.0, 75.0, 76.0, 74.0, 74.0, 73.0, 73.0, 76.0, 75.0, 70.0, 75.0, 73.0, 74.0, 74.0, 74.0, 74.0, 70.0, 75.0, 74.0, 73.0, 74.0, 72.0, 73.0, 67.0, 69.0, 76.0, 73.0, 70.0, 72.0, 74.0, 72.0, 72.0, 75.0, 73.0, 73.0, 72.0, 74.0, 76.0, 72.0, 74.0, 70.0, 74.0, 74.0, 74.0, 71.0, 75.0, 75.0, 76.0, 77.0, 75.0, 74.0, 75.0, 76.0, 78.0, 78.0, 76.0, 78.0, 76.0, 76.0, 78.0, 79.0, 77.0, 76.0, 77.0, 77.0, 76.0, 78.0, 76.0, 76.0, 77.0, 71.0, 74.0, 72.0, 77.0, 77.0, 78.0, 77.0, 77.0, 76.0, 75.0, 79.0, 75.0, 73.0, 76.0, 78.0, 77.0, 78.0, 76.0, 75.0, 76.0, 77.0, 74.0, 78.0, 77.0, 77.0, 74.0, 74.0, 78.0, 79.0, 79.0, 78.0, 75.0, 76.0, 78.0, 78.0, 74.0, 78.0, 77.0, 76.0, 78.0, 78.0, 78.0, 78.0, 74.0, 79.0, 77.0, 73.0, 79.0, 79.0, 78.0, 77.0, 78.0, 78.0, 80.0, 80.0, 79.0, 74.0, 71.0, 74.0, 75.0, 75.0, 74.0, 76.0, 75.0, 77.0, 77.0, 79.0, 79.0, 78.0, 79.0, 73.0, 78.0, 79.0, 80.0, 76.0, 79.0, 79.0, 77.0, 80.0, 79.0, 78.0, 78.0, 79.0, 78.0, 81.0, 78.0, 80.0, 79.0, 81.0, 80.0, 81.0, 79.0, 81.0, 78.0, 79.0, 79.0, 75.0, 79.0, 78.0, 80.0, 78.0, 77.0, 78.0, 79.0, 76.0, 80.0, 76.0, 81.0, 77.0, 76.0, 77.0, 75.0, 76.0, 79.0, 79.0, 77.0, 76.0, 77.0, 76.0, 73.0, 76.0, 77.0, 77.0, 78.0, 77.0, 76.0, 78.0, 78.0, 75.0, 77.0, 65.0, 76.0, 74.0, 76.0, 76.0, 77.0, 77.0, 76.0, 77.0, 76.0, 77.0, 74.0, 76.0, 73.0, 75.0, 76.0, 75.0, 76.0, 75.0, 74.0, 74.0, 74.0, 74.0, 76.0, 76.0, 77.0, 77.0, 78.0, 73.0, 75.0, 72.0, 76.0, 76.0, 73.0, 74.0, 72.0, 76.0, 76.0, 76.0, 78.0, 78.0, 78.0, 78.0, 75.0, 77.0, 73.0, 78.0, 75.0, 73.0, 77.0, 80.0, 70.0, 78.0, 72.0, 78.0, 72.0, 78.0, 77.0, 79.0, 77.0, 78.0, 74.0, 79.0, 79.0, 79.0, 79.0, 77.0, 79.0, 78.0, 80.0, 81.0, 81.0, 78.0, 77.0, 78.0, 79.0, 77.0, 79.0, 80.0, 79.0, 78.0, 79.0, 79.0, 79.0, 81.0, 64.0, 65.0, 75.0, 76.0, 78.0, 77.0, 75.0, 78.0, 81.0, 78.0, 76.0, 73.0, 74.0, 76.0, 78.0, 79.0, 78.0, 72.0, 78.0, 80.0, 81.0, 79.0, 78.0, 80.0, 80.0, 78.0, 80.0, 81.0, 78.0, 77.0, 78.0, 78.0, 77.0, 76.0, 81.0, 76.0, 82.0, 80.0, 80.0, 79.0, 74.0, 69.0, 70.0, 67.0, 70.0, 73.0, 73.0, 72.0, 72.0, 77.0, 70.0, 78.0, 73.0, 75.0, 70.0, 74.0, 77.0, 69.0, 73.0, 73.0, 74.0, 73.0, 72.0, 75.0, 73.0, 76.0, 74.0, 76.0, 73.0, 76.0, 76.0, 78.0, 75.0, 77.0, 75.0, 73.0, 76.0, 71.0, 71.0, 76.0, 76.0, 76.0, 73.0, 78.0, 77.0, 77.0, 77.0, 78.0, 78.0, 76.0, 76.0, 79.0, 74.0, 75.0, 76.0, 75.0, 73.0, 76.0, 78.0, 76.0, 79.0, 77.0, 76.0, 74.0, 75.0, 76.0, 76.0, 76.0, 79.0, 76.0, 72.0, 71.0, 72.0, 76.0, 74.0, 75.0, 76.0, 77.0, 76.0, 75.0, 76.0, 76.0, 76.0, 75.0, 76.0, 76.0, 79.0, 74.0, 73.0, 75.0, 74.0, 75.0, 76.0, 72.0, 74.0, 74.0, 75.0, 75.0, 74.0, 75.0, 77.0, 75.0, 74.0, 75.0, 74.0, 75.0, 73.0, 75.0, 76.0, 76.0, 76.0, 79.0, 74.0, 78.0, 80.0, 75.0, 72.0, 72.0, 74.0, 78.0, 76.0, 77.0, 72.0, 72.0, 73.0, 75.0, 79.0, 81.0, 76.0, 76.0, 77.0, 78.0, 79.0, 79.0, 75.0, 79.0, 79.0, 75.0, 77.0, 81.0, 76.0, 75.0, 78.0, 81.0, 76.0, 76.0, 76.0, 72.0, 73.0, 74.0, 74.0, 75.0, 73.0, 73.0, 76.0, 73.0, 79.0, 78.0, 76.0, 76.0, 76.0, 77.0, 79.0, 80.0, 78.0, 76.0, 78.0, 78.0, 77.0, 79.0, 79.0, 75.0, 76.0, 77.0, 74.0, 77.0, 76.0, 76.0, 75.0, 74.0, 79.0, 76.0, 74.0, 76.0, 77.0, 78.0, 77.0, 75.0, 75.0, 80.0, 77.0, 77.0, 77.0, 80.0, 76.0, 78.0, 77.0, 79.0, 79.0, 77.0, 75.0, 76.0, 78.0, 78.0, 80.0, 78.0, 79.0, 79.0, 77.0, 77.0, 81.0, 75.0, 72.0, 75.0, 75.0, 75.0, 75.0, 73.0, 78.0, 77.0, 80.0, 72.0, 78.0, 78.0, 77.0, 78.0, 79.0, 80.0, 76.0, 77.0, 79.0, 79.0, 77.0, 79.0, 80.0, 80.0, 77.0, 79.0, 81.0, 78.0, 80.0, 79.0, 79.0, 81.0, 79.0, 81.0, 78.0, 78.0, 78.0, 77.0, 78.0, 75.0, 81.0, 80.0, 77.0, 80.0, 78.0, 80.0, 77.0, 78.0, 78.0, 80.0, 80.0, 79.0, 82.0, 80.0, 81.0, 81.0, 79.0, 78.0, 75.0, 71.0, 71.0, 72.0, 72.0, 76.0, 77.0, 71.0, 73.0, 73.0, 75.0, 81.0, 74.0, 77.0, 70.0, 69.0, 70.0, 72.0, 71.0, 77.0, 76.0, 74.0, 74.0, 74.0, 74.0, 71.0, 80.0, 77.0, 72.0, 72.0, 73.0, 72.0, 73.0, 73.0, 77.0, 76.0, 79.0, 78.0, 82.0, 79.0, 76.0, 74.0, 74.0, 73.0, 79.0, 77.0, 73.0, 72.0, 72.0, 73.0, 74.0, 77.0, 73.0, 73.0, 72.0, 72.0, 67.0, 71.0, 73.0, 78.0, 71.0, 72.0, 70.0, 72.0, 73.0, 74.0, 81.0, 72.0, 77.0, 69.0, 69.0, 69.0, 78.0, 78.0, 73.0, 72.0, 71.0, 72.0, 72.0, 73.0, 71.0, 70.0, 71.0, 68.0, 72.0, 71.0, 78.0, 81.0, 74.0, 74.0, 73.0, 73.0, 72.0, 73.0, 77.0, 73.0, 73.0, 75.0, 72.0, 72.0, 73.0, 73.0, 75.0, 72.0, 73.0, 70.0, 69.0, 68.0, 75.0, 74.0, 73.0, 70.0, 70.0, 71.0, 70.0, 70.0, 75.0, 74.0, 72.0, 74.0, 73.0, 73.0, 70.0, 73.0, 75.0, 73.0, 69.0, 80.0, 73.0, 72.0, 80.0, 80.0, 69.0, 70.0, 69.0, 72.0, 68.0, 74.0, 75.0, 70.0, 70.0, 72.0, 71.0, 70.0, 77.0, 73.0, 71.0, 76.0, 68.0, 71.0, 70.0, 68.0, 79.0, 75.0, 71.0, 69.0, 71.0, 72.0, 69.0, 72.0, 75.0, 71.0, 72.0, 70.0, 71.0, 72.0, 75.0, 75.0, 71.0, 73.0, 71.0, 71.0, 74.0, 74.0, 78.0, 72.0, 69.0, 69.0, 67.0, 68.0, 65.0, 70.0, 72.0, 74.0, 73.0, 71.0, 75.0, 72.0, 75.0, 76.0, 75.0, 76.0, 75.0, 71.0, 75.0, 75.0, 72.0, 72.0, 75.0, 73.0, 76.0, 74.0, 77.0, 72.0, 71.0, 76.0, 77.0, 80.0, 76.0, 76.0, 77.0, 75.0, 75.0, 75.0, 75.0, 72.0, 74.0, 74.0, 74.0, 76.0, 74.0, 75.0, 73.0, 79.0, 75.0, 72.0, 72.0, 74.0, 72.0, 72.0, 77.0, 71.0, 73.0, 76.0, 77.0, 76.0, 76.0, 74.0, 76.0, 78.0, 74.0, 79.0, 79.0, 69.0, 77.0, 80.0, 75.0, 75.0, 78.0, 71.0, 76.0, 74.0, 78.0, 72.0, 78.0, 85.0, 77.0, 76.0, 76.0, 75.0, 71.0, 70.0, 80.0, 77.0, 70.0, 73.0, 73.0, 76.0, 70.0, 71.0, 80.0, 70.0, 68.0, 74.0, 75.0, 75.0, 78.0, 76.0, 69.0, 73.0, 76.0, 72.0, 72.0, 80.0, 76.0, 71.0, 68.0, 71.0, 72.0, 75.0, 80.0, 75.0, 74.0, 74.0, 69.0, 70.0, 73.0, 76.0, 76.0, 74.0, 71.0, 72.0, 73.0, 77.0, 77.0, 77.0, 79.0, 77.0, 77.0, 78.0, 78.0, 81.0, 76.0, 74.0, 71.0, 78.0, 71.0, 76.0, 81.0, 73.0, 72.0, 72.0, 74.0, 72.0, 79.0, 80.0, 81.0, 75.0, 80.0, 73.0, 74.0, 73.0, 81.0, 79.0, 78.0, 74.0, 74.0, 73.0, 73.0, 77.0, 77.0, 74.0, 73.0, 70.0, 69.0, 72.0, 79.0, 77.0, 70.0, 71.0, 67.0, 66.0, 78.0, 80.0, 80.0, 79.0, 68.0, 67.0, 71.0, 72.0, 79.0, 80.0, 72.0, 68.0, 84.0, 82.0, 79.0, 78.0, 81.0, 77.0, 71.0, 69.0, 73.0, 68.0, 75.0, 79.0, 70.0, 70.0, 73.0, 71.0, 68.0, 78.0, 69.0, 70.0, 67.0, 68.0, 68.0, 71.0, 74.0, 69.0, 69.0, 66.0, 67.0, 69.0, 72.0, 72.0, 72.0, 70.0, 75.0, 73.0, 70.0, 71.0, 70.0, 78.0, 73.0, 68.0, 79.0, 74.0, 75.0, 71.0, 75.0, 76.0, 73.0, 73.0, 74.0, 72.0, 72.0, 72.0, 70.0, 69.0, 73.0, 71.0, 73.0, 72.0, 69.0, 72.0, 66.0, 67.0, 71.0, 71.0, 72.0, 72.0, 71.0, 71.0, 71.0, 69.0, 68.0, 71.0, 73.0, 72.0, 74.0, 70.0, 72.0, 71.0, 71.0, 70.0, 70.0, 69.0, 74.0, 69.0, 72.0, 70.0, 72.0, 72.0, 69.0, 73.0, 71.0, 72.0, 71.0, 72.0, 71.0, 74.0, 74.0, 75.0, 69.0, 75.0, 70.0, 73.0, 72.0, 70.0, 73.0, 71.0, 70.0, 69.0, 71.0, 68.0, 68.0, 68.0, 69.0, 69.0, 69.0, 71.0, 78.0, 72.0, 73.0, 71.0, 72.0, 72.0, 71.0, 74.0, 71.0, 72.0, 72.0, 74.0, 72.0, 69.0, 70.0, 76.0, 70.0, 71.0, 73.0, 68.0, 68.0, 69.0, 70.0, 69.0, 69.0, 70.0, 71.0, 70.0, 67.0, 72.0, 72.0, 75.0, 73.0, 73.0, 72.0, 71.0, 77.0, 73.0, 70.0, 70.0, 76.0, 72.0, 73.0, 77.0, 73.0, 70.0, 68.0, 69.0, 70.0, 70.0, 73.0, 70.0, 69.0, 71.0, 70.0, 70.0, 72.0, 71.0, 70.0, 69.0, 72.0, 72.0, 71.0, 76.0, 71.0, 72.0, 70.0, 72.0, 72.0, 71.0, 72.0, 69.0, 70.0, 73.0, 70.0, 72.0, 72.0, 71.0, 73.0, 72.0, 73.0, 72.0, 71.0, 70.0, 75.0, 72.0, 70.0, 72.0, 70.0, 71.0, 70.0, 73.0, 72.0, 71.0, 71.0, 69.0, 70.0, 73.0, 75.0, 73.0, 72.0, 70.0, 70.0, 69.0, 73.0, 74.0, 72.0, 71.0, 73.0, 72.0, 73.0, 74.0, 72.0, 74.0, 72.0, 74.0, 74.0, 77.0, 74.0, 74.0, 79.0, 75.0, 72.0, 76.0, 74.0, 73.0, 74.0, 77.0, 74.0, 72.0, 77.0, 76.0, 74.0, 75.0, 76.0, 71.0, 73.0, 79.0, 79.0, 74.0, 74.0, 76.0, 75.0]\n"
     ]
    }
   ],
   "source": [
    "#  3. Convert the June temperatures to a list\n",
    "june_list = [temp.tobs for temp in june_temp]\n",
    "print(june_list)"
   ]
  },
  {
   "cell_type": "code",
   "execution_count": 6,
   "id": "96916c60",
   "metadata": {},
   "outputs": [
    {
     "data": {
      "text/html": [
       "<div>\n",
       "<style scoped>\n",
       "    .dataframe tbody tr th:only-of-type {\n",
       "        vertical-align: middle;\n",
       "    }\n",
       "\n",
       "    .dataframe tbody tr th {\n",
       "        vertical-align: top;\n",
       "    }\n",
       "\n",
       "    .dataframe thead th {\n",
       "        text-align: right;\n",
       "    }\n",
       "</style>\n",
       "<table border=\"1\" class=\"dataframe\">\n",
       "  <thead>\n",
       "    <tr style=\"text-align: right;\">\n",
       "      <th></th>\n",
       "      <th>0</th>\n",
       "    </tr>\n",
       "  </thead>\n",
       "  <tbody>\n",
       "    <tr>\n",
       "      <th>0</th>\n",
       "      <td>78.0</td>\n",
       "    </tr>\n",
       "    <tr>\n",
       "      <th>1</th>\n",
       "      <td>76.0</td>\n",
       "    </tr>\n",
       "    <tr>\n",
       "      <th>2</th>\n",
       "      <td>78.0</td>\n",
       "    </tr>\n",
       "    <tr>\n",
       "      <th>3</th>\n",
       "      <td>76.0</td>\n",
       "    </tr>\n",
       "    <tr>\n",
       "      <th>4</th>\n",
       "      <td>77.0</td>\n",
       "    </tr>\n",
       "    <tr>\n",
       "      <th>...</th>\n",
       "      <td>...</td>\n",
       "    </tr>\n",
       "    <tr>\n",
       "      <th>1695</th>\n",
       "      <td>79.0</td>\n",
       "    </tr>\n",
       "    <tr>\n",
       "      <th>1696</th>\n",
       "      <td>74.0</td>\n",
       "    </tr>\n",
       "    <tr>\n",
       "      <th>1697</th>\n",
       "      <td>74.0</td>\n",
       "    </tr>\n",
       "    <tr>\n",
       "      <th>1698</th>\n",
       "      <td>76.0</td>\n",
       "    </tr>\n",
       "    <tr>\n",
       "      <th>1699</th>\n",
       "      <td>75.0</td>\n",
       "    </tr>\n",
       "  </tbody>\n",
       "</table>\n",
       "<p>1700 rows × 1 columns</p>\n",
       "</div>"
      ],
      "text/plain": [
       "         0\n",
       "0     78.0\n",
       "1     76.0\n",
       "2     78.0\n",
       "3     76.0\n",
       "4     77.0\n",
       "...    ...\n",
       "1695  79.0\n",
       "1696  74.0\n",
       "1697  74.0\n",
       "1698  76.0\n",
       "1699  75.0\n",
       "\n",
       "[1700 rows x 1 columns]"
      ]
     },
     "execution_count": 6,
     "metadata": {},
     "output_type": "execute_result"
    }
   ],
   "source": [
    "# 4. Create a DataFrame from the list of temperatures for the month of June\n",
    "june_df = pd.DataFrame(june_list)\n",
    "june_df"
   ]
  },
  {
   "cell_type": "code",
   "execution_count": 7,
   "id": "71feb909",
   "metadata": {},
   "outputs": [
    {
     "data": {
      "text/html": [
       "<div>\n",
       "<style scoped>\n",
       "    .dataframe tbody tr th:only-of-type {\n",
       "        vertical-align: middle;\n",
       "    }\n",
       "\n",
       "    .dataframe tbody tr th {\n",
       "        vertical-align: top;\n",
       "    }\n",
       "\n",
       "    .dataframe thead th {\n",
       "        text-align: right;\n",
       "    }\n",
       "</style>\n",
       "<table border=\"1\" class=\"dataframe\">\n",
       "  <thead>\n",
       "    <tr style=\"text-align: right;\">\n",
       "      <th></th>\n",
       "      <th>June Temperatures (deg F)</th>\n",
       "    </tr>\n",
       "  </thead>\n",
       "  <tbody>\n",
       "    <tr>\n",
       "      <th>count</th>\n",
       "      <td>1700.000000</td>\n",
       "    </tr>\n",
       "    <tr>\n",
       "      <th>mean</th>\n",
       "      <td>74.944118</td>\n",
       "    </tr>\n",
       "    <tr>\n",
       "      <th>std</th>\n",
       "      <td>3.257417</td>\n",
       "    </tr>\n",
       "    <tr>\n",
       "      <th>min</th>\n",
       "      <td>64.000000</td>\n",
       "    </tr>\n",
       "    <tr>\n",
       "      <th>25%</th>\n",
       "      <td>73.000000</td>\n",
       "    </tr>\n",
       "    <tr>\n",
       "      <th>50%</th>\n",
       "      <td>75.000000</td>\n",
       "    </tr>\n",
       "    <tr>\n",
       "      <th>75%</th>\n",
       "      <td>77.000000</td>\n",
       "    </tr>\n",
       "    <tr>\n",
       "      <th>max</th>\n",
       "      <td>85.000000</td>\n",
       "    </tr>\n",
       "  </tbody>\n",
       "</table>\n",
       "</div>"
      ],
      "text/plain": [
       "       June Temperatures (deg F)\n",
       "count                1700.000000\n",
       "mean                   74.944118\n",
       "std                     3.257417\n",
       "min                    64.000000\n",
       "25%                    73.000000\n",
       "50%                    75.000000\n",
       "75%                    77.000000\n",
       "max                    85.000000"
      ]
     },
     "execution_count": 7,
     "metadata": {},
     "output_type": "execute_result"
    }
   ],
   "source": [
    "# 5. Calculate and print out the summary statistics for the June temperature DataFrame\n",
    "june_df.rename(columns={0: \"June Temperatures (deg F)\"}).describe()"
   ]
  },
  {
   "cell_type": "code",
   "execution_count": 8,
   "id": "388c24dd",
   "metadata": {},
   "outputs": [
    {
     "data": {
      "text/plain": [
       "<function matplotlib.pyplot.tight_layout(*, pad=1.08, h_pad=None, w_pad=None, rect=None)>"
      ]
     },
     "execution_count": 8,
     "metadata": {},
     "output_type": "execute_result"
    },
    {
     "data": {
      "image/png": "[encoded data removed]",
      "text/plain": [
       "<Figure size 432x288 with 1 Axes>"
      ]
     },
     "metadata": {},
     "output_type": "display_data"
    }
   ],
   "source": [
    "# Create June temperature data frame and plot spread\n",
    "june_df.plot.hist(bins=20, legend=False)\n",
    "plt.title(\"June Temperature\")\n",
    "plt.xlim(55,90)\n",
    "plt.ylim(0,350)\n",
    "plt.tight_layout"
   ]
  },
  {
   "cell_type": "markdown",
   "id": "52bb19dd",
   "metadata": {},
   "source": [
    "# June Precipitations"
   ]
  },
  {
   "cell_type": "code",
   "execution_count": 9,
   "id": "348926b1",
   "metadata": {},
   "outputs": [
    {
     "name": "stdout",
     "output_type": "stream",
     "text": [
      "[0.0, 0.01, 0.0, 0.0, 0.0, 0.0, 0.0, 0.0, 0.0, 0.0, 0.0, 0.0, 0.0, 0.0, 0.0, 0.0, 0.0, 0.0, 0.0, 0.0, 0.0, 0.0, 0.0, 0.0, 0.0, 0.02, 0.0, 0.0, 0.0, 0.0, 0.07, 0.0, 0.56, 0.89, 0.0, 0.0, 0.0, 0.03, 0.01, 0.0, 0.0, 0.0, 0.0, 0.0, 0.0, 0.0, 0.0, 0.05, 0.06, 0.07, None, 0.0, 0.0, 0.01, 0.01, 0.0, 0.02, 0.02, 0.0, 0.0, 0.0, 0.0, 0.0, None, None, 0.0, 0.0, 0.0, 0.0, 0.0, 0.0, 0.0, 0.0, 0.0, 0.0, 0.0, 0.0, 0.0, 0.0, 0.0, 0.03, 0.15, 0.01, 0.0, 0.05, 0.0, 0.01, 0.0, 0.0, 0.0, 0.0, 0.0, 0.0, 0.0, 0.0, 0.0, 0.0, 0.0, 0.0, 0.37, 0.0, 0.0, 0.0, 0.01, 0.0, 0.04, 0.12, 0.04, 0.02, 0.35, 0.03, 0.01, 0.0, 0.0, 0.03, 0.01, 0.0, 0.66, 0.01, 0.0, 0.0, 0.0, 0.03, 0.0, 0.0, 0.0, 0.0, 0.0, 0.0, 0.0, 0.01, 0.0, 0.03, 0.15, 0.01, 0.07, 0.01, 0.01, 0.19, 0.0, 0.05, 0.06, 0.04, 0.0, 0.01, 0.02, 0.0, 0.0, 0.0, 0.0, 0.0, 0.0, 0.0, 0.0, 0.0, 0.0, 0.0, 0.0, 0.0, 0.0, 0.0, 0.0, 0.03, 0.0, 0.01, 0.04, 0.0, 0.0, 0.03, 0.03, 0.03, 0.0, 0.0, 0.0, 0.0, 0.0, 0.06, 0.0, 0.0, 0.0, 0.0, 0.0, 0.01, 0.0, 0.01, 0.05, 0.0, 0.01, 0.0, 0.0, 0.01, 0.02, 0.02, 0.0, 0.01, 0.01, 0.0, 0.0, 0.0, 0.01, 0.03, 0.01, 0.01, 0.0, 0.0, 0.0, 0.0, 0.0, 0.02, 0.0, 0.0, 0.0, 0.0, 0.0, 0.0, 0.04, 0.08, 0.02, 0.0, 0.0, 0.0, 0.0, 0.0, 0.05, 0.0, 0.02, 0.0, 0.0, 0.0, 0.06, 0.0, 0.0, 0.0, 0.0, 0.0, 0.08, 0.03, 0.0, 0.0, 0.0, 0.0, 0.0, 0.02, 0.0, 0.0, 0.02, 0.0, 0.0, 0.01, 0.06, 0.0, 0.01, 0.02, 0.06, 0.13, 0.02, 0.01, 0.0, 0.0, 0.01, 0.05, 0.24, 0.03, 0.11, 0.0, 0.03, 0.03, 0.08, 0.63, 4.43, 4.02, 0.02, 0.06, 0.04, 0.01, 0.02, 0.01, 0.12, 0.16, 0.0, 0.0, 0.06, 0.0, 0.02, 0.09, 0.03, 0.54, 0.22, 0.03, 0.21, 0.0, 0.04, 0.03, 0.1, 0.0, 0.0, 0.08, 0.03, 0.0, 0.0, 0.0, 0.03, 0.0, 0.0, 0.0, 0.0, 0.04, 0.02, 0.05, 0.08, 0.0, 0.0, 0.02, 0.0, 0.01, 0.14, 0.02, 0.01, 0.28, 0.27, 0.04, 0.22, 0.23, 0.0, 0.06, 0.0, 0.05, 0.02, 0.02, 0.0, 0.0, 0.03, 0.0, 0.0, 0.0, 0.02, 0.0, 0.0, 0.02, 0.08, 0.01, 0.0, 0.01, 0.02, 0.0, 0.0, 0.22, 0.27, 0.03, 0.02, 0.05, 1.0, 0.1, 0.02, 0.22, 0.01, 0.0, 0.0, 0.0, 0.0, 0.0, 0.13, 0.01, 0.02, 0.02, 0.1, 0.15, 0.0, 0.0, 0.0, 0.01, 0.12, 0.05, 0.07, 0.0, 0.29, 0.06, 0.15, 0.15, 0.1, 0.04, 0.04, 0.02, 0.25, 0.18, 0.03, None, 0.27, 0.0, 0.0, 0.0, 0.1, 0.05, 0.07, 0.1, 0.0, 0.0, 0.07, 0.0, 0.14, 0.25, 0.14, 0.02, 0.04, 0.01, 0.01, 0.03, 0.14, 0.2, 0.1, 0.06, None, 0.89, 0.15, 0.16, 0.0, 0.63, 0.36, 0.4, 0.0, 0.21, 0.06, 0.02, 0.04, 0.08, 0.06, 0.18, 0.03, 0.16, 0.3, 0.02, 0.16, 0.03, 0.01, 0.25, 0.02, 0.8, 0.06, 0.06, 0.02, 0.03, 0.0, 0.03, 0.1, 0.2, 0.15, 0.0, 0.0, 0.0, 0.02, 0.02, 0.21, 0.24, 0.19, 0.36, 0.27, 0.17, 0.02, 0.35, 0.25, 0.05, 0.05, 0.02, 0.1, 0.0, 0.0, 0.08, 0.02, 0.0, 0.01, 0.03, 0.04, 0.01, 0.0, 0.0, 0.0, 0.0, 0.0, 0.09, 0.0, 0.0, 0.0, 0.0, 0.03, 0.0, 0.06, 0.03, 0.0, 0.0, 0.03, 0.04, 0.0, 0.0, 0.0, 0.0, 0.05, 0.12, None, 0.18, 0.06, 0.03, 0.19, 0.04, 1.75, 1.14, 3.6, 0.0, 0.05, 0.17, 0.0, 0.02, None, 0.02, 0.0, 0.13, 0.0, 0.0, 0.12, None, 0.2, 0.09, 0.17, 0.03, None, 0.12, 0.08, 0.01, None, 0.12, 0.03, 0.2, 0.0, 0.23, 0.02, None, 0.0, 0.0, 0.0, 0.01, 0.0, 0.01, 0.0, 0.0, 0.04, 0.08, 0.03, None, 0.04, 0.04, 0.08, 0.01, None, 0.17, 0.0, None, 0.02, 0.0, 0.0, 0.0, 0.13, 0.04, None, 0.16, 0.17, 0.0, 0.0, 0.0, None, 0.39, 0.08, 0.14, 0.07, 0.11, None, 0.03, 0.1, 0.08, 0.08, None, 0.04, 0.05, 0.0, 0.22, 0.0, 0.0, None, 0.0, 0.0, 0.0, 0.03, None, 0.0, 0.0, 0.16, 0.04, 0.02, 0.06, 0.0, 0.04, 0.02, 0.01, 0.2, 0.11, 0.09, 0.0, 0.11, 1.1, 0.22, 0.35, 0.02, None, 0.0, 0.12, 0.13, 0.01, 0.26, 0.01, 0.0, 0.18, 0.06, 0.17, 0.03, 0.03, 0.47, 0.0, 0.08, 0.1, 0.03, 0.44, 0.03, 0.0, 0.0, 0.06, 0.0, 0.0, 0.15, 0.16, 0.05, 0.02, 0.0, 0.0, 0.01, 0.0, 0.53, 0.14, 0.35, 0.1, 0.21, 0.3, 0.02, 0.02, 0.18, 0.19, 0.17, None, None, None, 0.0, 0.0, 0.0, 0.14, 0.0, 0.0, 0.0, 0.0, 0.0, 0.0, 0.0, 0.0, 0.05, 0.0, 0.02, 0.0, 0.02, 0.1, 0.0, 0.0, 0.0, None, 0.0, 1.71, 0.0, 0.0, 0.05, 0.0, 0.0, 0.0, None, None, None, None, 0.25, 0.08, 0.22, 0.1, None, None, None, 0.0, 0.04, None, 0.0, None, None, 0.0, None, 0.0, 0.25, None, None, 0.02, 0.05, 0.0, 0.0, None, None, None, 0.0, 0.0, None, None, 0.02, 0.0, 0.0, 0.0, None, None, None, None, 0.08, 0.0, 0.04, 0.08, None, None, 0.01, None, None, 0.0, None, None, None, None, 0.0, None, 0.0, None, 0.2, 0.0, 0.01, 0.14, 0.0, 0.04, 0.0, None, 0.0, 0.01, 0.0, 0.0, None, 0.04, 0.09, None, None, None, None, None, None, None, None, None, None, None, None, 0.02, 0.1, 0.38, 0.1, None, None, None, None, None, None, None, None, None, None, None, None, None, None, None, None, None, None, None, None, None, 0.0, 0.0, None, 0.0, 0.0, 0.0, 0.12, None, 0.03, 0.0, 0.0, 0.0, 0.0, None, 0.0, 0.0, 0.0, 0.01, None, 0.0, 0.3, 0.02, 0.03, None, 0.11, 0.28, 0.3, None, 0.1, 0.04, None, 0.04, None, 0.08, 0.09, 0.06, 0.07, None, 0.05, 0.82, 0.03, None, None, None, None, 0.03, 0.0, 0.0, 0.0, 0.0, 0.0, 0.0, 0.01, 0.0, 0.0, 0.0, 0.0, 0.0, 0.0, 0.0, 0.0, 0.0, 0.14, 0.0, 0.0, 0.0, 0.0, 0.0, 0.0, 0.08, 0.08, 0.0, 0.0, 0.0, 0.15, 0.01, 0.09, 0.51, 0.25, 0.03, 0.03, 0.0, 0.0, 0.0, 0.0, 0.09, 0.0, 0.0, 0.0, 0.09, 0.0, 0.0, 0.17, 0.14, 0.38, 0.17, 0.05, 0.03, 0.0, 0.12, 0.02, 0.02, 0.0, 0.0, 0.0, 0.0, 0.0, 0.0, 0.0, 0.12, 0.0, 0.0, 0.0, 0.0, 0.0, 0.01, 0.01, 0.0, 0.0, 0.0, 0.0, 0.0, 0.25, 0.25, 0.0, 0.0, 0.1, 0.0, 0.51, 0.19, 0.15, 0.0, 0.06, 0.0, 0.0, 0.08, 0.02, 0.0, 0.0, 0.0, 0.07, 0.0, 0.0, 0.0, 0.0, 0.0, 0.0, 0.28, 0.0, 0.0, 0.0, 0.0, 0.0, 0.07, 0.32, 0.13, 0.08, 0.01, 0.18, 0.42, 0.02, 0.05, 0.0, 0.0, 0.1, None, 0.0, 0.0, 0.0, 0.0, 0.0, 0.0, 0.13, 0.0, 0.0, 0.0, 0.0, 0.0, None, 0.0, 0.51, 0.0, 0.01, 0.23, 0.01, 0.07, 0.1, None, 0.01, 0.07, 0.13, 0.0, 0.0, 0.07, 0.01, 0.0, 0.0, 0.01, 0.01, 0.0, 0.0, 0.0, 0.0, 0.0, 0.0, 0.0, 0.05, 0.18, 0.0, 0.0, 0.0, 0.0, 0.05, 0.0, 0.14, 0.0, 0.0, None, 0.0, 0.38, 0.03, 0.47, 0.02, 0.14, 0.17, 0.07, 0.0, 0.15, 0.23, 0.0, 0.12, 0.1, 0.0, 0.25, None, 0.0, 0.06, 0.03, 0.03, 0.0, 0.0, 0.0, 0.21, 0.0, 0.0, 0.0, 0.0, 0.0, 0.0, 0.0, 0.15, 0.0, 0.0, 0.0, 0.0, 0.0, 0.0, 0.13, 0.25, 0.14, 0.03, 0.06, 0.0, 0.0, 0.0, 0.0, 0.01, None, 0.0, 0.05, 0.0, 0.0, 0.0, 0.0, 0.0, 0.0, 0.07, 0.0, 0.03, 0.0, 0.0, 0.0, 0.0, 0.12, 0.0, 0.0, 0.0, 0.0, 0.0, 0.04, 0.06, 0.11, 0.0, 0.02, 0.19, 0.33, 0.0, 0.0, 0.0, 0.02, 0.07, 0.09, 0.41, 0.05, 0.0, 0.05, 0.0, 0.22, 0.42, 0.33, 0.03, 0.05, 0.03, 0.03, 0.32, 0.05, 0.16, 0.0, 0.06, 0.03, 0.01, 0.14, 0.05, 0.57, 0.61, 0.06, 0.81, 0.01, 0.11, 0.09, 0.12, 0.08, 0.03, 0.02, 0.08, 0.0, 0.0, 0.0, 0.1, 0.07, 0.01, 0.0, 0.0, 0.11, 0.16, 0.07, 0.21, 0.0, 0.0, 0.02, 0.0, 0.02, 0.33, 0.26, 0.03, 0.35, 0.14, 0.13, 0.22, 0.43, 0.01, 0.14, 0.01, 0.06, 0.17, 0.08, 0.0, 0.0, 0.0, 0.0, 0.0, 0.0, 0.01, 0.02, 0.0, 0.1, 0.16, 0.1, 0.03, 0.05, 0.04, 0.01, 0.02, 0.53, 0.88, 0.03, 0.22, 0.36, 0.82, 0.07, 0.04, 0.43, 0.71, 0.07, 0.06, 0.0, 0.01, 0.01, 0.19, 0.2, 0.18, 0.04, 0.22, 0.37, 0.02, 0.0, 0.02, 0.02, 0.03, 0.29, 0.17, 0.04, 0.16, 0.22, 0.04, 0.31, 0.08, 0.23, 0.31, 0.12, 0.6, 0.48, 0.01, 0.46, 0.02, 0.0, 1.24, 0.06, 0.0, 0.07, 0.01, 0.34, 0.03, 0.03, 0.08, 0.01, 0.05, 0.03, 0.01, 0.15, 0.45, 0.19, 0.13, 0.05, 0.05, 0.03, 0.17, 0.21, 0.02, 0.21, 0.02, 0.27, 0.16, 1.39, 0.5, 0.02, 0.0, 0.22, 0.52, 0.35, 0.0, 0.29, 0.62, 0.13, 0.28, 0.02, 0.2, 0.68, 0.05, 0.29, 0.4, 0.05, 0.4, 0.04, 0.13, 0.39, 0.12, 0.75, 0.03, 0.37, 0.23, 0.1, 0.01, 0.0, 0.09, 0.08, 0.13, 0.05, 0.0, 0.0, 0.0, 0.02, 0.62, 0.74, 0.24, 0.24, 0.22, 0.55, 0.06, 0.07, 0.24, 0.08, 0.0, 0.19, 0.06, 0.12, 0.36, 0.02, 0.06, 0.01, 0.0, 0.0, 0.01, 0.0, 0.0, 0.0, 0.0, 0.0, 0.0, 0.05, 0.0, 0.0, 0.0, 0.0, 0.0, 0.0, 0.0, 0.0, 0.0, 0.04, 0.05, 0.0, 0.0, 0.0, 0.0, 0.0, 0.02, 0.0, 0.09, 0.0, 0.02, 0.03, 0.02, 0.0, 0.03, 0.58, 0.02, 0.0, 0.0, 0.1, 0.0, 0.0, 0.0, 0.02, 0.0, 0.0, 0.0, 0.01, 0.0, 0.0, 0.0, 0.01, 0.03, 0.1, 0.01, 0.0, 0.0, 0.0, 0.0, 0.0, 0.0, 0.0, 0.01, 0.02, 0.0, 0.0, 0.0, 0.01, 0.0, 0.0, 0.0, 0.0, 0.0, 0.0, 0.03, 0.0, None, 0.0, 0.0, 0.0, 0.02, 0.0, 0.0, 0.1, 0.0, 0.01, 0.0, 0.01, 0.0, 0.0, 0.0, 0.0, 0.0, 0.0, 0.0, 0.0, 0.0, 0.0, 0.0, 0.0, 0.0, 0.0, 0.0, 0.0, 0.07, 0.0, 0.0, 0.0, 0.0, 0.0, 0.0, 0.05, 0.0, 0.0, 0.0, 0.02, 0.06, 0.0, 0.0, 0.08, 0.0, 0.0, 0.0, 0.0, 0.0, None, 0.0, 0.0, 0.0, 0.0, 0.0, 0.0, 0.0, 0.0, 0.0, 0.0, 0.17, 0.01, 0.0, 0.03, 0.0, 0.0, 0.05, 0.05, 0.05, 0.03, 0.02, 0.05, 0.0, 0.01, 0.0, 0.0, 0.0, 0.0, None, 0.0, None, 0.0, None, 0.2, 0.0, 0.0, 0.0, None, 0.0, 0.0, 0.01, 0.01, 0.08, 0.0, 0.1, 0.01, 0.09, 0.13, 0.44, 0.27, 0.0, None, None, 0.05, None, None, 0.04, 0.26, 0.79, 0.88, 0.37, 0.16, 0.02, 0.71, 0.61, 0.22, 2.0, 2.45, 0.76, 0.1, 0.19, 0.23, 0.1, 0.11, 0.17, 1.5, 0.41, 0.14, 0.01, 0.83, 0.18, 0.07, 1.84, 0.91, 1.03, 1.65, 0.68, 1.16, 0.06, 0.29, 0.98, 0.25, 0.06, 0.0, 0.26, 0.22, 0.0, 0.02, 0.0, 0.72, 0.12, 0.3, 0.0, 0.08, 0.08, 0.14, 0.48, 0.21, 0.0, 0.0, 0.1, 0.0, 0.38, 1.84, 0.34, 0.94, 1.13, 0.89, 0.92, 0.73, 0.37, 0.79, 0.71, 0.81, 0.49, 0.03, 0.0, 0.14, 0.07, 0.08, 0.02, 0.02, 0.05, 0.28, 0.47, 2.56, 0.11, 0.3, 0.43, 0.44, 0.05, 0.18, 1.53, 1.96, 0.67, 0.62, 2.03, 2.8, 0.06, 0.34, 0.53, 0.83, 0.26, 0.68, 0.19, 0.09, 0.03, 0.88, 0.15, 0.29, 1.0, 0.11, 0.57, 0.02, 0.01, 0.0, 0.03, 0.38, 1.45, 0.32, 0.2, 0.75, 0.09, 0.03, 0.74, 0.07, 0.97, 0.42, 0.9, 1.29, 1.29, 2.47, 0.27, 0.01, 1.12, 0.16, 0.0, 0.01, 0.34, 0.26, 0.04, None, 0.0, 0.47, 0.67, 0.94, 0.48, 0.54, 0.69, 0.13, 0.1, 0.19, 0.31, 0.78, 1.36, 0.4, 0.17, 0.16, 1.62, 0.0, 1.4, 0.74, 0.1, None, 0.47, 1.26, 0.01, 1.7, 1.4, 0.65, 0.55, 0.08, 0.19, 1.38, 0.12, 1.27, 0.72, 0.79, 0.52, 0.78, 0.2, 0.9, None, 0.7, 0.3, 0.25, 0.35, 0.01, None, 0.82, 0.01, 0.0, 0.01, 0.0, None, 0.7, 0.81, 0.65, 0.81, 1.69, 0.1, 0.1, 0.7, 0.4, 0.31, 0.3, 0.28, 0.5, 0.22, 0.5, 0.02, 0.1, 0.02, 0.04, 0.2]\n"
     ]
    }
   ],
   "source": [
    "# Convert the June precipitation data to a list.\n",
    "june_prcp_list = [prcp.prcp for prcp in june_temp]\n",
    "print(june_prcp_list)"
   ]
  },
  {
   "cell_type": "code",
   "execution_count": 10,
   "id": "f971d36d",
   "metadata": {},
   "outputs": [
    {
     "data": {
      "text/html": [
       "<div>\n",
       "<style scoped>\n",
       "    .dataframe tbody tr th:only-of-type {\n",
       "        vertical-align: middle;\n",
       "    }\n",
       "\n",
       "    .dataframe tbody tr th {\n",
       "        vertical-align: top;\n",
       "    }\n",
       "\n",
       "    .dataframe thead th {\n",
       "        text-align: right;\n",
       "    }\n",
       "</style>\n",
       "<table border=\"1\" class=\"dataframe\">\n",
       "  <thead>\n",
       "    <tr style=\"text-align: right;\">\n",
       "      <th></th>\n",
       "      <th>0</th>\n",
       "    </tr>\n",
       "  </thead>\n",
       "  <tbody>\n",
       "    <tr>\n",
       "      <th>0</th>\n",
       "      <td>0.00</td>\n",
       "    </tr>\n",
       "    <tr>\n",
       "      <th>1</th>\n",
       "      <td>0.01</td>\n",
       "    </tr>\n",
       "    <tr>\n",
       "      <th>2</th>\n",
       "      <td>0.00</td>\n",
       "    </tr>\n",
       "    <tr>\n",
       "      <th>3</th>\n",
       "      <td>0.00</td>\n",
       "    </tr>\n",
       "    <tr>\n",
       "      <th>4</th>\n",
       "      <td>0.00</td>\n",
       "    </tr>\n",
       "    <tr>\n",
       "      <th>...</th>\n",
       "      <td>...</td>\n",
       "    </tr>\n",
       "    <tr>\n",
       "      <th>1695</th>\n",
       "      <td>0.02</td>\n",
       "    </tr>\n",
       "    <tr>\n",
       "      <th>1696</th>\n",
       "      <td>0.10</td>\n",
       "    </tr>\n",
       "    <tr>\n",
       "      <th>1697</th>\n",
       "      <td>0.02</td>\n",
       "    </tr>\n",
       "    <tr>\n",
       "      <th>1698</th>\n",
       "      <td>0.04</td>\n",
       "    </tr>\n",
       "    <tr>\n",
       "      <th>1699</th>\n",
       "      <td>0.20</td>\n",
       "    </tr>\n",
       "  </tbody>\n",
       "</table>\n",
       "<p>1700 rows × 1 columns</p>\n",
       "</div>"
      ],
      "text/plain": [
       "         0\n",
       "0     0.00\n",
       "1     0.01\n",
       "2     0.00\n",
       "3     0.00\n",
       "4     0.00\n",
       "...    ...\n",
       "1695  0.02\n",
       "1696  0.10\n",
       "1697  0.02\n",
       "1698  0.04\n",
       "1699  0.20\n",
       "\n",
       "[1700 rows x 1 columns]"
      ]
     },
     "execution_count": 10,
     "metadata": {},
     "output_type": "execute_result"
    }
   ],
   "source": [
    "# Create June Precipitation data frame\n",
    "june_prcp_df = pd.DataFrame(june_prcp_list)\n",
    "june_prcp_df"
   ]
  },
  {
   "cell_type": "code",
   "execution_count": 11,
   "id": "4d61305f",
   "metadata": {},
   "outputs": [
    {
     "data": {
      "text/html": [
       "<div>\n",
       "<style scoped>\n",
       "    .dataframe tbody tr th:only-of-type {\n",
       "        vertical-align: middle;\n",
       "    }\n",
       "\n",
       "    .dataframe tbody tr th {\n",
       "        vertical-align: top;\n",
       "    }\n",
       "\n",
       "    .dataframe thead th {\n",
       "        text-align: right;\n",
       "    }\n",
       "</style>\n",
       "<table border=\"1\" class=\"dataframe\">\n",
       "  <thead>\n",
       "    <tr style=\"text-align: right;\">\n",
       "      <th></th>\n",
       "      <th>June Precipitation (inches)</th>\n",
       "    </tr>\n",
       "  </thead>\n",
       "  <tbody>\n",
       "    <tr>\n",
       "      <th>count</th>\n",
       "      <td>1574.000000</td>\n",
       "    </tr>\n",
       "    <tr>\n",
       "      <th>mean</th>\n",
       "      <td>0.136360</td>\n",
       "    </tr>\n",
       "    <tr>\n",
       "      <th>std</th>\n",
       "      <td>0.335731</td>\n",
       "    </tr>\n",
       "    <tr>\n",
       "      <th>min</th>\n",
       "      <td>0.000000</td>\n",
       "    </tr>\n",
       "    <tr>\n",
       "      <th>25%</th>\n",
       "      <td>0.000000</td>\n",
       "    </tr>\n",
       "    <tr>\n",
       "      <th>50%</th>\n",
       "      <td>0.020000</td>\n",
       "    </tr>\n",
       "    <tr>\n",
       "      <th>75%</th>\n",
       "      <td>0.120000</td>\n",
       "    </tr>\n",
       "    <tr>\n",
       "      <th>max</th>\n",
       "      <td>4.430000</td>\n",
       "    </tr>\n",
       "  </tbody>\n",
       "</table>\n",
       "</div>"
      ],
      "text/plain": [
       "       June Precipitation (inches)\n",
       "count                  1574.000000\n",
       "mean                      0.136360\n",
       "std                       0.335731\n",
       "min                       0.000000\n",
       "25%                       0.000000\n",
       "50%                       0.020000\n",
       "75%                       0.120000\n",
       "max                       4.430000"
      ]
     },
     "execution_count": 11,
     "metadata": {},
     "output_type": "execute_result"
    }
   ],
   "source": [
    "# Summary statistics for the June Precipitation DataFrame.\n",
    "june_prcp_df.rename(columns={0: \"June Precipitation (inches)\"}).describe()"
   ]
  },
  {
   "cell_type": "code",
   "execution_count": 12,
   "id": "718df62b",
   "metadata": {},
   "outputs": [
    {
     "data": {
      "image/png": "[encoded data removed]",
      "text/plain": [
       "<Figure size 432x288 with 1 Axes>"
      ]
     },
     "metadata": {},
     "output_type": "display_data"
    }
   ],
   "source": [
    "# Plot June precipitation spread\n",
    "june_prcp_df.plot.hist(bins=20, orientation=\"horizontal\", legend=False)\n",
    "plt.title(\"June Precipitation\")\n",
    "plt.xlim(0,1400)\n",
    "plt.ylim(0,6)\n",
    "plt.tight_layout\n",
    "plt.show()"
   ]
  },
  {
   "cell_type": "markdown",
   "id": "8d733016",
   "metadata": {},
   "source": [
    "# D2: Determine the Summary Statistics for December"
   ]
  },
  {
   "cell_type": "code",
   "execution_count": 13,
   "id": "41bcd1f4",
   "metadata": {},
   "outputs": [],
   "source": [
    "# 6. Write a query that filters the Measurement table to retrieve the temperatures for the month of December\n",
    "december_temp = []\n",
    "december_temp = session.query(Measurement).filter(func.extract('month',Measurement.date) == 12)"
   ]
  },
  {
   "cell_type": "markdown",
   "id": "861df9b4",
   "metadata": {},
   "source": [
    "# December Temperatures"
   ]
  },
  {
   "cell_type": "code",
   "execution_count": 14,
   "id": "1f3fb04f",
   "metadata": {},
   "outputs": [
    {
     "name": "stdout",
     "output_type": "stream",
     "text": [
      "[76.0, 74.0, 74.0, 64.0, 64.0, 67.0, 77.0, 66.0, 69.0, 68.0, 68.0, 71.0, 74.0, 67.0, 66.0, 69.0, 71.0, 70.0, 70.0, 74.0, 74.0, 71.0, 75.0, 75.0, 72.0, 69.0, 68.0, 73.0, 74.0, 73.0, 73.0, 73.0, 73.0, 71.0, 73.0, 73.0, 77.0, 72.0, 71.0, 73.0, 70.0, 73.0, 69.0, 74.0, 72.0, 71.0, 72.0, 72.0, 70.0, 73.0, 73.0, 72.0, 73.0, 73.0, 72.0, 63.0, 65.0, 71.0, 76.0, 70.0, 76.0, 69.0, 69.0, 69.0, 74.0, 76.0, 74.0, 73.0, 73.0, 74.0, 73.0, 73.0, 73.0, 74.0, 74.0, 71.0, 73.0, 72.0, 64.0, 66.0, 73.0, 72.0, 65.0, 64.0, 69.0, 68.0, 77.0, 71.0, 71.0, 69.0, 68.0, 68.0, 69.0, 70.0, 72.0, 76.0, 75.0, 69.0, 71.0, 71.0, 71.0, 68.0, 65.0, 70.0, 69.0, 69.0, 71.0, 67.0, 73.0, 74.0, 73.0, 67.0, 74.0, 75.0, 75.0, 74.0, 67.0, 73.0, 73.0, 71.0, 72.0, 71.0, 68.0, 65.0, 69.0, 70.0, 70.0, 74.0, 71.0, 74.0, 73.0, 72.0, 74.0, 72.0, 74.0, 75.0, 74.0, 70.0, 74.0, 70.0, 66.0, 61.0, 63.0, 63.0, 63.0, 63.0, 67.0, 56.0, 75.0, 77.0, 75.0, 75.0, 75.0, 75.0, 71.0, 70.0, 74.0, 74.0, 75.0, 72.0, 70.0, 66.0, 74.0, 75.0, 74.0, 75.0, 76.0, 74.0, 75.0, 74.0, 73.0, 68.0, 73.0, 74.0, 74.0, 77.0, 70.0, 70.0, 69.0, 75.0, 72.0, 69.0, 71.0, 68.0, 67.0, 69.0, 73.0, 70.0, 70.0, 70.0, 66.0, 67.0, 70.0, 66.0, 62.0, 71.0, 73.0, 69.0, 77.0, 74.0, 71.0, 72.0, 74.0, 74.0, 74.0, 74.0, 71.0, 73.0, 69.0, 66.0, 73.0, 72.0, 73.0, 74.0, 73.0, 66.0, 64.0, 66.0, 75.0, 65.0, 69.0, 71.0, 69.0, 78.0, 74.0, 68.0, 68.0, 70.0, 70.0, 71.0, 71.0, 71.0, 71.0, 69.0, 69.0, 72.0, 76.0, 72.0, 73.0, 73.0, 74.0, 69.0, 68.0, 74.0, 73.0, 73.0, 72.0, 71.0, 71.0, 68.0, 72.0, 71.0, 72.0, 71.0, 71.0, 72.0, 71.0, 71.0, 72.0, 72.0, 72.0, 69.0, 71.0, 71.0, 69.0, 74.0, 72.0, 71.0, 71.0, 72.0, 71.0, 67.0, 65.0, 70.0, 76.0, 68.0, 71.0, 71.0, 68.0, 70.0, 73.0, 73.0, 72.0, 71.0, 70.0, 72.0, 71.0, 72.0, 72.0, 71.0, 70.0, 71.0, 71.0, 71.0, 66.0, 65.0, 73.0, 72.0, 72.0, 65.0, 65.0, 68.0, 67.0, 76.0, 70.0, 71.0, 69.0, 67.0, 69.0, 71.0, 69.0, 72.0, 76.0, 75.0, 72.0, 75.0, 71.0, 69.0, 68.0, 68.0, 72.0, 70.0, 72.0, 75.0, 69.0, 72.0, 73.0, 73.0, 72.0, 73.0, 74.0, 73.0, 72.0, 68.0, 72.0, 71.0, 69.0, 67.0, 70.0, 72.0, 67.0, 67.0, 69.0, 67.0, 74.0, 70.0, 73.0, 71.0, 71.0, 71.0, 71.0, 72.0, 76.0, 78.0, 76.0, 73.0, 70.0, 68.0, 77.0, 66.0, 65.0, 69.0, 69.0, 66.0, 64.0, 74.0, 75.0, 80.0, 72.0, 73.0, 70.0, 69.0, 77.0, 74.0, 77.0, 72.0, 69.0, 69.0, 75.0, 75.0, 72.0, 73.0, 78.0, 75.0, 75.0, 74.0, 73.0, 70.0, 70.0, 72.0, 74.0, 74.0, 67.0, 74.0, 70.0, 73.0, 71.0, 71.0, 69.0, 68.0, 70.0, 71.0, 72.0, 70.0, 71.0, 72.0, 68.0, 68.0, 70.0, 70.0, 63.0, 71.0, 67.0, 69.0, 74.0, 72.0, 70.0, 69.0, 73.0, 74.0, 74.0, 73.0, 71.0, 72.0, 69.0, 71.0, 73.0, 73.0, 71.0, 72.0, 71.0, 64.0, 71.0, 62.0, 70.0, 64.0, 64.0, 70.0, 70.0, 69.0, 72.0, 68.0, 68.0, 65.0, 67.0, 68.0, 70.0, 67.0, 73.0, 70.0, 68.0, 72.0, 69.0, 71.0, 70.0, 75.0, 70.0, 68.0, 73.0, 71.0, 71.0, 70.0, 70.0, 70.0, 70.0, 72.0, 74.0, 71.0, 70.0, 70.0, 69.0, 71.0, 70.0, 70.0, 72.0, 72.0, 72.0, 72.0, 72.0, 70.0, 66.0, 71.0, 68.0, 79.0, 76.0, 73.0, 75.0, 71.0, 76.0, 74.0, 73.0, 73.0, 74.0, 73.0, 72.0, 76.0, 75.0, 77.0, 74.0, 76.0, 75.0, 76.0, 73.0, 75.0, 73.0, 73.0, 74.0, 78.0, 78.0, 78.0, 75.0, 75.0, 75.0, 74.0, 77.0, 72.0, 72.0, 73.0, 71.0, 75.0, 76.0, 74.0, 75.0, 74.0, 75.0, 73.0, 72.0, 72.0, 75.0, 74.0, 74.0, 72.0, 73.0, 70.0, 76.0, 78.0, 76.0, 78.0, 74.0, 71.0, 78.0, 70.0, 74.0, 74.0, 75.0, 76.0, 78.0, 72.0, 73.0, 76.0, 72.0, 72.0, 78.0, 76.0, 76.0, 77.0, 79.0, 73.0, 79.0, 77.0, 78.0, 76.0, 78.0, 77.0, 79.0, 75.0, 77.0, 76.0, 78.0, 78.0, 77.0, 78.0, 78.0, 76.0, 75.0, 72.0, 75.0, 77.0, 75.0, 77.0, 76.0, 76.0, 75.0, 72.0, 76.0, 75.0, 72.0, 72.0, 75.0, 69.0, 75.0, 74.0, 78.0, 77.0, 76.0, 72.0, 73.0, 74.0, 74.0, 74.0, 73.0, 73.0, 71.0, 72.0, 72.0, 75.0, 66.0, 66.0, 67.0, 76.0, 68.0, 69.0, 71.0, 70.0, 68.0, 66.0, 69.0, 69.0, 71.0, 72.0, 69.0, 72.0, 70.0, 76.0, 69.0, 71.0, 72.0, 71.0, 78.0, 73.0, 74.0, 68.0, 71.0, 76.0, 75.0, 74.0, 73.0, 73.0, 74.0, 69.0, 74.0, 72.0, 70.0, 67.0, 69.0, 73.0, 75.0, 74.0, 72.0, 71.0, 67.0, 74.0, 70.0, 70.0, 70.0, 71.0, 70.0, 71.0, 71.0, 68.0, 74.0, 75.0, 74.0, 77.0, 76.0, 77.0, 75.0, 76.0, 75.0, 77.0, 75.0, 77.0, 74.0, 78.0, 77.0, 76.0, 69.0, 70.0, 64.0, 75.0, 69.0, 65.0, 76.0, 81.0, 71.0, 71.0, 71.0, 82.0, 74.0, 75.0, 77.0, 74.0, 68.0, 72.0, 70.0, 68.0, 74.0, 71.0, 70.0, 70.0, 70.0, 68.0, 68.0, 68.0, 66.0, 71.0, 76.0, 73.0, 70.0, 68.0, 71.0, 71.0, 68.0, 71.0, 70.0, 73.0, 78.0, 76.0, 73.0, 74.0, 63.0, 72.0, 75.0, 74.0, 72.0, 68.0, 74.0, 73.0, 73.0, 72.0, 73.0, 72.0, 78.0, 74.0, 74.0, 78.0, 78.0, 61.0, 69.0, 65.0, 77.0, 67.0, 69.0, 75.0, 67.0, 71.0, 74.0, 66.0, 66.0, 77.0, 70.0, 73.0, 71.0, 71.0, 71.0, 67.0, 71.0, 74.0, 76.0, 72.0, 74.0, 75.0, 69.0, 69.0, 69.0, 75.0, 73.0, 73.0, 72.0, 72.0, 72.0, 74.0, 72.0, 73.0, 73.0, 73.0, 73.0, 74.0, 73.0, 71.0, 72.0, 73.0, 74.0, 72.0, 73.0, 73.0, 71.0, 73.0, 75.0, 71.0, 72.0, 73.0, 71.0, 65.0, 77.0, 72.0, 78.0, 71.0, 72.0, 71.0, 72.0, 76.0, 75.0, 75.0, 76.0, 73.0, 72.0, 74.0, 74.0, 74.0, 73.0, 77.0, 73.0, 70.0, 72.0, 76.0, 65.0, 74.0, 73.0, 77.0, 76.0, 69.0, 78.0, 76.0, 68.0, 76.0, 68.0, 79.0, 69.0, 64.0, 70.0, 69.0, 73.0, 70.0, 74.0, 76.0, 76.0, 69.0, 73.0, 73.0, 65.0, 70.0, 72.0, 72.0, 75.0, 74.0, 69.0, 73.0, 75.0, 76.0, 74.0, 73.0, 74.0, 71.0, 72.0, 73.0, 72.0, 72.0, 73.0, 72.0, 75.0, 76.0, 67.0, 69.0, 70.0, 75.0, 74.0, 71.0, 74.0, 71.0, 72.0, 74.0, 75.0, 73.0, 75.0, 76.0, 68.0, 71.0, 68.0, 66.0, 63.0, 62.0, 67.0, 68.0, 63.0, 56.0, 76.0, 75.0, 74.0, 76.0, 69.0, 71.0, 72.0, 74.0, 75.0, 72.0, 78.0, 69.0, 75.0, 75.0, 74.0, 74.0, 76.0, 73.0, 75.0, 75.0, 74.0, 79.0, 75.0, 76.0, 76.0, 69.0, 72.0, 76.0, 75.0, 75.0, 75.0, 70.0, 70.0, 74.0, 73.0, 72.0, 78.0, 67.0, 69.0, 71.0, 74.0, 63.0, 76.0, 76.0, 71.0, 76.0, 77.0, 73.0, 71.0, 78.0, 78.0, 75.0, 75.0, 72.0, 77.0, 72.0, 72.0, 71.0, 72.0, 74.0, 66.0, 61.0, 58.0, 60.0, 71.0, 65.0, 72.0, 70.0, 68.0, 67.0, 71.0, 65.0, 64.0, 65.0, 69.0, 70.0, 70.0, 68.0, 69.0, 71.0, 70.0, 71.0, 76.0, 71.0, 72.0, 73.0, 77.0, 67.0, 69.0, 72.0, 74.0, 71.0, 70.0, 68.0, 70.0, 66.0, 72.0, 70.0, 70.0, 70.0, 70.0, 73.0, 71.0, 69.0, 73.0, 72.0, 71.0, 69.0, 70.0, 69.0, 70.0, 75.0, 71.0, 70.0, 69.0, 71.0, 65.0, 67.0, 72.0, 67.0, 76.0, 67.0, 72.0, 69.0, 66.0, 75.0, 74.0, 72.0, 72.0, 72.0, 68.0, 74.0, 73.0, 73.0, 72.0, 70.0, 70.0, 71.0, 70.0, 72.0, 65.0, 62.0, 73.0, 71.0, 70.0, 62.0, 69.0, 69.0, 66.0, 72.0, 73.0, 70.0, 66.0, 64.0, 65.0, 73.0, 74.0, 67.0, 73.0, 70.0, 67.0, 71.0, 78.0, 69.0, 63.0, 64.0, 66.0, 69.0, 69.0, 71.0, 72.0, 69.0, 70.0, 73.0, 68.0, 69.0, 73.0, 73.0, 70.0, 65.0, 70.0, 68.0, 68.0, 66.0, 68.0, 65.0, 62.0, 62.0, 65.0, 61.0, 70.0, 68.0, 67.0, 68.0, 71.0, 69.0, 71.0, 71.0, 71.0, 72.0, 72.0, 68.0, 69.0, 66.0, 60.0, 63.0, 68.0, 64.0, 63.0, 63.0, 59.0, 73.0, 74.0, 75.0, 75.0, 70.0, 72.0, 69.0, 68.0, 74.0, 72.0, 75.0, 79.0, 69.0, 67.0, 73.0, 74.0, 75.0, 72.0, 76.0, 74.0, 75.0, 74.0, 74.0, 76.0, 74.0, 75.0, 75.0, 73.0, 76.0, 74.0, 73.0, 74.0, 70.0, 72.0, 70.0, 67.0, 67.0, 69.0, 70.0, 68.0, 69.0, 69.0, 66.0, 65.0, 68.0, 62.0, 75.0, 70.0, 69.0, 76.0, 76.0, 74.0, 73.0, 71.0, 74.0, 74.0, 72.0, 71.0, 72.0, 74.0, 69.0, 67.0, 70.0, 74.0, 74.0, 75.0, 69.0, 65.0, 66.0, 68.0, 77.0, 65.0, 72.0, 65.0, 66.0, 74.0, 66.0, 63.0, 63.0, 69.0, 69.0, 73.0, 72.0, 68.0, 67.0, 69.0, 74.0, 72.0, 76.0, 70.0, 73.0, 70.0, 76.0, 66.0, 69.0, 69.0, 70.0, 71.0, 73.0, 65.0, 71.0, 65.0, 75.0, 72.0, 74.0, 67.0, 65.0, 68.0, 66.0, 73.0, 74.0, 76.0, 72.0, 69.0, 71.0, 70.0, 70.0, 73.0, 71.0, 76.0, 72.0, 77.0, 70.0, 65.0, 72.0, 75.0, 68.0, 72.0, 64.0, 75.0, 69.0, 80.0, 73.0, 73.0, 73.0, 72.0, 73.0, 75.0, 76.0, 74.0, 72.0, 72.0, 70.0, 70.0, 71.0, 61.0, 65.0, 74.0, 71.0, 63.0, 64.0, 66.0, 68.0, 66.0, 70.0, 68.0, 68.0, 66.0, 75.0, 67.0, 70.0, 72.0, 69.0, 72.0, 69.0, 65.0, 71.0, 73.0, 69.0, 69.0, 63.0, 63.0, 71.0, 79.0, 67.0, 67.0, 64.0, 63.0, 68.0, 77.0, 79.0, 74.0, 68.0, 64.0, 70.0, 62.0, 68.0, 67.0, 70.0, 66.0, 64.0, 62.0, 64.0, 63.0, 69.0, 64.0, 70.0, 72.0, 72.0, 64.0, 71.0, 68.0, 81.0, 78.0, 69.0, 72.0, 70.0, 62.0, 76.0, 72.0, 76.0, 57.0, 64.0, 57.0, 71.0, 70.0, 67.0, 77.0, 69.0, 61.0, 62.0, 63.0, 73.0, 64.0, 67.0, 69.0, 80.0, 71.0, 73.0, 65.0, 68.0, 68.0, 69.0, 72.0, 69.0, 69.0, 67.0, 69.0, 73.0, 71.0, 71.0, 70.0, 71.0, 70.0, 75.0, 71.0, 73.0, 71.0, 71.0, 68.0, 67.0, 70.0, 67.0, 69.0, 71.0, 69.0, 69.0, 68.0, 69.0, 69.0, 67.0, 69.0, 68.0, 70.0, 68.0, 69.0, 71.0, 65.0, 69.0, 69.0, 69.0, 69.0, 70.0, 73.0, 67.0, 74.0, 77.0, 74.0, 73.0, 71.0, 73.0, 68.0, 69.0, 71.0, 72.0, 72.0, 67.0, 67.0, 69.0, 66.0, 66.0, 69.0, 66.0, 68.0, 65.0, 68.0, 67.0, 71.0, 65.0, 71.0, 69.0, 69.0, 62.0, 62.0, 67.0, 65.0, 68.0, 67.0, 75.0, 68.0, 68.0, 70.0, 83.0, 68.0, 70.0, 70.0, 68.0, 76.0, 72.0, 68.0, 64.0, 72.0, 72.0, 68.0, 70.0, 69.0, 68.0, 70.0, 67.0, 70.0, 70.0, 71.0, 70.0, 69.0, 71.0, 68.0, 70.0, 67.0, 70.0, 73.0, 70.0, 66.0, 70.0, 72.0, 71.0, 68.0, 71.0, 67.0, 65.0, 66.0, 70.0, 69.0, 70.0, 72.0, 67.0, 68.0, 64.0, 66.0, 65.0, 62.0, 68.0, 67.0, 73.0, 70.0, 71.0, 71.0, 70.0, 71.0, 69.0, 70.0, 73.0, 70.0, 72.0, 71.0, 69.0, 74.0, 73.0, 69.0, 71.0, 68.0, 72.0, 71.0, 70.0, 72.0, 71.0, 69.0, 71.0, 67.0, 71.0, 69.0, 71.0, 71.0, 67.0, 76.0, 67.0, 67.0, 68.0, 71.0, 68.0, 68.0, 69.0, 65.0, 70.0, 69.0, 64.0, 60.0, 67.0, 72.0, 73.0, 70.0, 68.0, 69.0, 69.0, 69.0, 71.0, 71.0, 71.0, 69.0, 65.0, 65.0]\n"
     ]
    }
   ],
   "source": [
    "# 7. Convert the December temperatures to a list\n",
    "december_list = [temp.tobs for temp in december_temp]\n",
    "print(december_list)"
   ]
  },
  {
   "cell_type": "code",
   "execution_count": 15,
   "id": "9870c91e",
   "metadata": {},
   "outputs": [
    {
     "data": {
      "text/html": [
       "<div>\n",
       "<style scoped>\n",
       "    .dataframe tbody tr th:only-of-type {\n",
       "        vertical-align: middle;\n",
       "    }\n",
       "\n",
       "    .dataframe tbody tr th {\n",
       "        vertical-align: top;\n",
       "    }\n",
       "\n",
       "    .dataframe thead th {\n",
       "        text-align: right;\n",
       "    }\n",
       "</style>\n",
       "<table border=\"1\" class=\"dataframe\">\n",
       "  <thead>\n",
       "    <tr style=\"text-align: right;\">\n",
       "      <th></th>\n",
       "      <th>0</th>\n",
       "    </tr>\n",
       "  </thead>\n",
       "  <tbody>\n",
       "    <tr>\n",
       "      <th>0</th>\n",
       "      <td>76.0</td>\n",
       "    </tr>\n",
       "    <tr>\n",
       "      <th>1</th>\n",
       "      <td>74.0</td>\n",
       "    </tr>\n",
       "    <tr>\n",
       "      <th>2</th>\n",
       "      <td>74.0</td>\n",
       "    </tr>\n",
       "    <tr>\n",
       "      <th>3</th>\n",
       "      <td>64.0</td>\n",
       "    </tr>\n",
       "    <tr>\n",
       "      <th>4</th>\n",
       "      <td>64.0</td>\n",
       "    </tr>\n",
       "    <tr>\n",
       "      <th>...</th>\n",
       "      <td>...</td>\n",
       "    </tr>\n",
       "    <tr>\n",
       "      <th>1512</th>\n",
       "      <td>71.0</td>\n",
       "    </tr>\n",
       "    <tr>\n",
       "      <th>1513</th>\n",
       "      <td>71.0</td>\n",
       "    </tr>\n",
       "    <tr>\n",
       "      <th>1514</th>\n",
       "      <td>69.0</td>\n",
       "    </tr>\n",
       "    <tr>\n",
       "      <th>1515</th>\n",
       "      <td>65.0</td>\n",
       "    </tr>\n",
       "    <tr>\n",
       "      <th>1516</th>\n",
       "      <td>65.0</td>\n",
       "    </tr>\n",
       "  </tbody>\n",
       "</table>\n",
       "<p>1517 rows × 1 columns</p>\n",
       "</div>"
      ],
      "text/plain": [
       "         0\n",
       "0     76.0\n",
       "1     74.0\n",
       "2     74.0\n",
       "3     64.0\n",
       "4     64.0\n",
       "...    ...\n",
       "1512  71.0\n",
       "1513  71.0\n",
       "1514  69.0\n",
       "1515  65.0\n",
       "1516  65.0\n",
       "\n",
       "[1517 rows x 1 columns]"
      ]
     },
     "execution_count": 15,
     "metadata": {},
     "output_type": "execute_result"
    }
   ],
   "source": [
    "# 8. Create a DataFrame from the list of temperatures for the month of December\n",
    "december_df = pd.DataFrame(december_list)\n",
    "december_df"
   ]
  },
  {
   "cell_type": "code",
   "execution_count": 16,
   "id": "76deace9",
   "metadata": {},
   "outputs": [
    {
     "data": {
      "text/html": [
       "<div>\n",
       "<style scoped>\n",
       "    .dataframe tbody tr th:only-of-type {\n",
       "        vertical-align: middle;\n",
       "    }\n",
       "\n",
       "    .dataframe tbody tr th {\n",
       "        vertical-align: top;\n",
       "    }\n",
       "\n",
       "    .dataframe thead th {\n",
       "        text-align: right;\n",
       "    }\n",
       "</style>\n",
       "<table border=\"1\" class=\"dataframe\">\n",
       "  <thead>\n",
       "    <tr style=\"text-align: right;\">\n",
       "      <th></th>\n",
       "      <th>December Temperatures (deg F)</th>\n",
       "    </tr>\n",
       "  </thead>\n",
       "  <tbody>\n",
       "    <tr>\n",
       "      <th>count</th>\n",
       "      <td>1517.000000</td>\n",
       "    </tr>\n",
       "    <tr>\n",
       "      <th>mean</th>\n",
       "      <td>71.041529</td>\n",
       "    </tr>\n",
       "    <tr>\n",
       "      <th>std</th>\n",
       "      <td>3.745920</td>\n",
       "    </tr>\n",
       "    <tr>\n",
       "      <th>min</th>\n",
       "      <td>56.000000</td>\n",
       "    </tr>\n",
       "    <tr>\n",
       "      <th>25%</th>\n",
       "      <td>69.000000</td>\n",
       "    </tr>\n",
       "    <tr>\n",
       "      <th>50%</th>\n",
       "      <td>71.000000</td>\n",
       "    </tr>\n",
       "    <tr>\n",
       "      <th>75%</th>\n",
       "      <td>74.000000</td>\n",
       "    </tr>\n",
       "    <tr>\n",
       "      <th>max</th>\n",
       "      <td>83.000000</td>\n",
       "    </tr>\n",
       "  </tbody>\n",
       "</table>\n",
       "</div>"
      ],
      "text/plain": [
       "       December Temperatures (deg F)\n",
       "count                    1517.000000\n",
       "mean                       71.041529\n",
       "std                         3.745920\n",
       "min                        56.000000\n",
       "25%                        69.000000\n",
       "50%                        71.000000\n",
       "75%                        74.000000\n",
       "max                        83.000000"
      ]
     },
     "execution_count": 16,
     "metadata": {},
     "output_type": "execute_result"
    }
   ],
   "source": [
    "# 9. Calculate and print out the summary statistics for the December temperature DataFrame\n",
    "december_df.rename(columns={0: \"December Temperatures (deg F)\"}).describe()"
   ]
  },
  {
   "cell_type": "code",
   "execution_count": 17,
   "id": "0940a068",
   "metadata": {},
   "outputs": [
    {
     "data": {
      "text/plain": [
       "<function matplotlib.pyplot.tight_layout(*, pad=1.08, h_pad=None, w_pad=None, rect=None)>"
      ]
     },
     "execution_count": 17,
     "metadata": {},
     "output_type": "execute_result"
    },
    {
     "data": {
      "image/png": "[encoded data removed]",
      "text/plain": [
       "<Figure size 432x288 with 1 Axes>"
      ]
     },
     "metadata": {},
     "output_type": "display_data"
    }
   ],
   "source": [
    "# Create December temperature data frame and plot spread\n",
    "december_df.plot.hist(bins=20, legend=False)\n",
    "plt.title(\"December Temperature\")\n",
    "plt.xlim(55,90)\n",
    "plt.ylim(0,350)\n",
    "plt.tight_layout"
   ]
  },
  {
   "cell_type": "markdown",
   "id": "5b9e7b1f",
   "metadata": {},
   "source": [
    "# December Precipitations"
   ]
  },
  {
   "cell_type": "code",
   "execution_count": 18,
   "id": "b1abf6b1",
   "metadata": {},
   "outputs": [
    {
     "name": "stdout",
     "output_type": "stream",
     "text": [
      "[0.04, 0.0, 0.0, 0.0, 0.0, 0.0, 0.0, 1.58, 0.77, 0.0, 0.0, 0.0, 0.0, 0.0, 0.0, 0.0, 1.4, 0.0, 0.0, None, 0.13, 0.55, 0.06, 0.01, 0.0, 0.03, 0.08, 0.0, 0.0, 0.0, 0.0, 0.0, 0.0, 0.13, 0.07, 0.07, 0.08, 0.4, 0.7, 0.0, 0.01, 0.07, 0.02, 0.15, 0.02, 0.18, 0.03, 0.04, 0.1, 0.03, 0.0, 0.0, 0.0, 0.0, 0.0, 0.01, 0.0, 0.0, 0.0, 0.2, 0.01, None, None, 0.0, 0.0, 0.0, 0.0, 0.0, 0.14, 0.09, 0.01, 0.02, 0.02, 0.12, 0.0, 0.1, 0.0, 0.0, 0.0, 0.0, 0.03, 0.0, 0.0, 0.0, 0.0, 0.04, 0.0, 2.01, 0.01, 0.0, 0.0, 0.0, 0.0, 0.0, 0.0, 0.03, 0.0, 0.0, 0.02, 0.0, 0.0, 1.1, 0.02, 0.0, 0.16, 0.09, 0.02, 0.0, 0.0, 0.05, 0.02, 0.0, 0.0, 0.0, 0.0, 0.0, 0.0, 0.0, 0.02, 0.15, 0.09, 0.0, 0.0, 0.0, 0.0, 0.0, 0.0, 0.05, 0.01, 0.0, 0.03, 0.02, 0.01, 0.01, 0.0, 0.0, 0.0, 0.0, 0.0, 0.93, 0.04, 0.02, 0.0, 0.0, 0.0, 0.0, 0.0, 0.05, 0.0, 0.0, 0.06, 0.02, 0.0, 0.0, 0.0, 0.0, 0.0, 0.06, 0.0, 0.39, 0.0, 0.0, 0.08, 0.0, 0.02, 0.08, 0.13, 0.03, 0.01, 0.0, 0.0, 0.0, 0.0, 0.02, 0.43, 0.01, 0.0, 0.0, 0.0, 0.12, 0.03, 0.0, 0.03, 0.43, 0.02, 0.0, 0.03, 0.52, 0.05, 0.04, 0.01, 0.05, 0.03, 0.0, 0.0, 0.01, 0.13, 0.01, 0.0, 0.0, 0.01, 0.01, 0.01, 0.0, 0.02, 0.0, 0.02, 0.04, 0.12, 0.01, 0.76, 0.13, 0.16, 0.0, 0.0, 0.0, 0.0, 0.0, 0.0, 1.95, 0.62, 0.15, 0.47, 0.0, 0.0, 0.0, 0.0, 0.0, 3.18, 4.94, 0.43, 0.01, 0.02, 0.0, 2.95, 0.99, 0.46, 0.63, 0.02, 0.11, 0.05, 0.11, 0.14, 0.03, 0.01, 0.0, 0.0, 0.04, 0.08, 0.07, 0.11, 0.76, 0.58, 1.55, 0.05, 0.02, 0.0, 0.02, 0.11, 0.05, 0.02, 0.24, 0.06, 0.02, 0.02, 0.05, 0.0, 0.0, 0.03, 0.01, 0.02, 0.04, 0.0, 0.0, 0.0, 0.18, 0.07, 0.0, 0.0, 0.0, 0.0, 0.03, 0.0, 0.07, 0.1, 0.08, 0.1, 0.04, 0.02, 0.2, 0.24, 0.08, 0.06, 0.07, 0.02, 0.0, 0.0, 0.01, 0.0, 0.0, 0.0, 0.21, 0.17, 0.0, 0.93, 0.8, 0.0, 0.0, 0.0, 0.0, 0.0, 0.0, 0.01, 0.13, 0.0, 0.01, 0.0, 0.0, 1.31, 0.01, 0.01, 1.0, 0.41, 0.01, 0.02, 0.02, 0.01, 0.02, 0.02, 0.0, 0.02, 0.03, 0.0, 0.09, 0.0, 0.0, 0.05, 1.35, 0.01, 0.0, 0.0, 0.0, 0.0, 0.0, 0.05, 0.12, 0.03, 0.11, 0.0, 0.03, 0.14, 0.09, 0.01, 0.0, 0.0, 0.0, 1.1, 1.24, 0.09, 0.0, 0.0, 0.0, 0.0, 0.0, 0.72, 0.03, 0.08, 0.01, 0.28, 0.52, 0.0, 0.08, 0.1, 0.08, 0.0, 0.62, 0.0, 0.69, 0.24, 0.08, 0.13, 0.28, 0.36, 0.2, 0.03, 0.01, 0.11, 0.0, 0.52, 0.19, 0.25, 0.4, 0.11, 0.03, 0.06, 0.33, 0.3, 0.04, 0.1, 0.34, 0.02, 0.17, 0.03, 0.34, 0.02, 0.02, 0.01, 0.1, 0.05, 0.02, 0.01, 0.11, 0.29, 0.21, 0.02, 0.03, 0.17, 0.1, 0.14, 0.03, 0.26, 0.03, 0.09, 0.18, 0.21, 0.62, 0.03, 0.06, 0.22, 0.0, 0.0, 0.0, 0.0, 0.0, 0.12, 2.01, 0.26, 0.01, 0.65, 0.0, 0.0, 0.0, 0.0, 0.0, 2.43, 2.55, 0.49, 0.05, 0.02, 0.0, None, 0.15, 0.96, 0.01, 0.05, 0.0, 0.04, 0.24, 0.02, 0.0, 0.0, 0.0, 0.04, 0.0, 0.02, 0.36, None, 0.47, 0.1, 0.04, 0.07, None, 0.16, 0.05, 0.25, 0.12, None, None, 0.03, None, 0.0, 0.08, 0.0, None, 0.0, 0.08, 0.0, 0.0, None, 0.0, 0.03, 0.25, 0.22, None, 0.22, 0.29, None, 0.0, None, None, None, None, None, 0.2, 0.0, 0.0, 0.05, 0.04, 0.0, 0.0, 0.05, 0.0, 0.0, 0.07, 0.0, None, 0.0, 0.02, 0.52, 0.1, 0.07, None, 0.0, None, 0.03, 0.01, 0.0, 0.0, 0.23, 0.0, 0.0, 0.24, 1.51, 0.26, 0.48, None, 0.0, 0.0, 0.1, 0.07, 0.0, None, 0.0, 0.01, 0.03, 0.01, 0.0, None, 0.58, None, None, None, 0.0, 0.0, 0.17, 0.03, None, 0.05, 0.02, 0.12, 0.03, 0.17, 0.0, 0.05, 0.0, 0.05, 0.13, 0.08, 0.18, None, 0.13, 0.1, None, None, 0.21, 0.01, 0.07, 0.4, 0.26, 0.0, 0.2, None, 0.02, 0.26, 0.0, None, 0.34, 0.12, 0.07, 0.0, 0.0, 0.04, 0.0, 0.0, 0.09, 0.05, 0.03, 0.13, None, 0.02, 0.01, 0.56, 0.29, 0.36, 0.7, 0.26, 0.0, 0.0, 0.0, 0.02, 1.75, 0.0, 0.0, 0.0, 0.0, 0.0, 0.0, 0.0, 0.0, 0.0, 0.07, 0.05, 0.16, None, 2.8, 0.86, 0.02, None, 0.0, 0.0, 0.02, None, None, 0.0, 0.0, 0.0, 0.04, 0.07, None, None, None, None, None, 0.0, 0.02, None, 0.0, 0.0, 0.0, 0.0, None, 0.02, None, None, None, None, None, None, 0.0, None, 0.28, 0.0, 0.05, 0.15, None, None, None, 0.0, 0.06, 0.1, None, None, None, None, 0.04, 0.1, 0.02, 0.0, None, 0.0, None, 0.28, None, None, None, None, None, None, None, 0.11, None, None, None, None, None, None, None, None, 0.27, None, 0.02, None, None, None, None, None, None, 0.06, None, None, None, None, None, None, 0.78, None, 0.02, 0.02, 0.33, 1.43, 2.5, 1.5, None, 0.13, 0.1, 0.05, None, None, None, None, 0.16, None, 0.03, 0.02, 0.01, 0.0, 0.0, 0.0, 0.0, 0.15, 0.03, 2.02, 0.3, 0.09, 0.02, 0.04, 0.0, 0.0, 0.0, 0.0, 2.86, 4.95, 0.63, 0.58, 0.11, 0.02, 0.02, 0.74, 0.09, 0.07, 0.04, 0.27, 0.01, 0.12, 0.42, 0.02, 0.0, 0.0, 0.01, 0.0, 0.0, 0.08, 0.07, 0.55, 0.21, 0.39, 0.02, 0.09, 0.02, 0.25, 0.08, 0.1, 0.24, 0.19, 0.02, 0.01, 0.1, 0.07, 0.05, 0.04, 0.0, 0.01, 0.0, 0.0, 0.0, 0.0, 0.0, 0.08, 1.02, 0.01, 0.0, 0.0, 0.0, 0.0, 0.0, 0.04, 0.13, 0.09, 0.12, 0.04, 0.09, 0.22, 0.04, 0.1, 0.02, 0.0, 0.0, 0.0, 0.1, 0.03, 0.0, 0.0, 0.0, 0.03, 0.0, 0.09, 2.25, 0.09, 0.0, 0.0, 0.0, 0.0, 0.0, 0.0, 0.03, 0.0, 0.02, 0.02, 0.0, 0.1, 0.88, 0.0, 0.0, 0.35, 0.01, 0.0, 0.01, 0.08, 0.04, 0.0, 0.0, 0.0, 0.06, 0.16, 0.01, 0.17, 0.0, 0.0, 0.02, 1.02, 0.0, 0.0, 0.0, 0.0, 0.0, 0.0, 0.16, 0.08, 0.11, 0.2, 0.05, 0.05, 0.09, 0.0, 0.0, 0.0, None, 1.52, 1.01, 0.53, 0.0, 0.0, 0.0, 0.0, 0.0, 0.63, None, 0.03, 0.0, 0.0, None, 0.04, 0.13, 0.14, 0.06, 0.41, 0.01, 0.03, 0.28, 0.0, 0.06, 0.12, 0.24, 0.04, None, 0.0, 0.0, 0.23, 0.15, 0.48, 0.05, 0.01, None, 0.16, 0.01, 0.02, 0.32, 0.45, 0.0, 0.07, 0.01, None, 0.06, 0.0, 0.15, 0.05, 0.0, 0.0, 0.16, 0.27, 0.02, 0.01, 0.06, 0.14, 0.02, 0.06, 0.0, 0.06, 0.0, 0.06, 0.05, 0.07, 1.35, 0.16, 0.47, 0.0, 0.0, 0.0, 0.0, 0.0, 0.07, 1.72, 0.89, 0.31, 0.22, 0.02, 0.0, 0.0, 0.0, 0.0, 2.77, 3.06, 0.71, 0.02, 0.23, 0.02, 3.14, 2.49, 0.13, 0.58, 0.06, 0.04, 0.1, 0.05, 0.29, 0.07, 0.02, 0.01, 0.0, 0.05, 0.0, 0.1, 0.23, 1.16, 0.65, 1.02, 0.07, 0.3, 0.03, 0.38, 0.1, 0.29, 0.01, 0.58, 0.11, 0.12, 0.11, 0.04, 0.0, 0.05, 0.02, 0.0, 0.01, 0.1, 0.0, 0.0, 0.0, 0.02, 0.32, 0.01, 0.0, 0.0, 0.0, 0.08, 0.0, 0.02, 0.13, 0.25, 0.21, 0.08, 0.14, 0.46, 0.25, 0.34, 0.05, 0.01, 0.1, 0.0, 0.04, 0.0, 0.0, 0.0, 0.01, 0.35, 0.42, 0.12, 1.71, 0.57, 0.01, 0.0, 0.0, 0.01, 0.0, 0.0, 0.04, 0.17, 0.03, 0.04, 0.08, 0.06, 1.97, 0.02, 0.02, 0.77, 1.14, 0.07, 0.03, 0.06, 0.09, 0.03, 0.05, 0.01, 0.01, 0.0, 0.0, 0.08, 0.0, 0.0, 0.41, 1.56, 0.04, 0.63, 0.01, 0.0, 0.0, 0.0, 0.21, 0.07, 0.01, 0.13, 0.0, 0.08, 0.07, 0.11, 0.08, 0.0, 0.0, 0.0, 1.07, 1.1, 0.36, 0.0, 0.0, 0.0, 0.0, 0.0, 0.66, 0.02, 0.02, 0.22, 0.03, 0.0, 0.1, 0.02, 0.02, 0.08, 0.1, 0.15, 0.31, 0.03, 0.13, 0.35, 0.03, 0.09, 0.17, 0.13, 0.05, 0.15, 0.04, 0.1, 0.45, 0.47, 0.22, 0.8, 0.0, 0.16, 0.5, 0.09, 0.37, 0.35, 0.77, 0.04, 0.22, 0.0, 0.12, 0.07, 0.31, 0.02, 0.0, 0.0, 0.04, 0.92, 0.14, 0.03, 0.07, 0.16, 0.03, 0.0, 0.11, 0.86, 0.24, 0.2, 0.02, 0.22, 0.05, 0.09, 0.52, 0.29, 0.25, 0.13, 0.0, 0.01, 0.0, 0.0, 0.0, 0.0, 0.0, 0.04, 1.8, 0.8, 0.01, 0.0, 0.01, 0.0, 0.0, 0.0, 0.0, 4.0, 3.05, 0.17, 0.04, 0.0, 0.05, 0.01, 3.0, 0.01, 1.67, 0.0, 0.02, 0.0, 0.0, 0.01, 0.0, 0.0, 0.0, 0.0, 0.0, 0.0, 0.05, 0.03, 0.29, 0.03, 0.1, 0.06, 0.01, 0.01, 0.0, 0.0, 0.0, 0.0, 0.03, 0.02, 0.01, 0.01, 0.0, 0.0, 0.0, 0.0, 0.0, 0.0, 0.01, 0.0, 0.0, 0.0, 0.08, 0.01, 0.0, 0.0, 0.0, 0.0, 0.0, 0.0, 0.0, 0.15, 0.0, 0.0, 0.0, 0.02, 0.0, 0.0, 0.0, 0.01, 0.0, 0.0, 0.0, 0.0, 0.0, 0.0, 0.0, 0.0, 0.0, 0.46, 0.87, 0.0, 0.01, 0.01, 0.0, 0.0, 0.0, 0.0, 0.0, 0.0, 0.02, 0.0, 0.0, 0.06, 2.4, 0.01, 0.01, 0.05, 0.0, 0.0, 0.0, 0.08, 0.0, 0.0, 0.0, 0.0, 0.0, 0.0, 0.0, 0.0, 0.0, 0.17, 0.09, 0.0, 0.0, 0.0, 0.01, 0.0, 0.0, 0.01, 0.0, None, 0.0, 0.0, 0.03, 0.0, 0.0, 0.0, 0.0, 0.01, 0.1, 0.0, 0.0, 0.0, 0.0, 0.0, 0.0, 0.0, 0.7, 1.48, 0.18, 1.59, 0.19, 0.0, 0.0, 0.0, 0.0, 0.0, 1.86, 0.58, 0.45, 0.18, 0.0, 0.0, 0.0, 0.0, 0.0, 2.15, 5.04, 1.44, 0.04, 0.0, 0.15, 0.0, 0.99, 0.02, 0.04, 0.19, 0.3, 0.01, 0.16, 0.46, 0.11, 0.03, 0.22, 0.12, 0.26, 0.53, None, 1.35, 1.71, 6.42, 1.37, 1.18, 1.09, 0.63, 0.3, 0.87, 0.16, 1.52, 0.27, 0.42, 0.8, 0.58, 0.05, 0.06, 0.06, 0.0, 0.05, 0.25, 0.0, 0.01, 0.0, 0.0, 0.04, 0.0, 0.0, 0.01, 0.04, 0.12, 0.0, 0.24, 0.44, 0.72, 0.44, 0.48, 0.54, 2.25, 0.34, 1.8, 0.67, 0.12, 0.0, 0.0, 0.0, 0.21, 0.02, 0.0, 0.0, 0.1, 0.04, 0.14, 2.02, 0.15, 0.0, 0.0, 0.0, None, 0.0, 0.35, 0.37, 0.09, 0.39, 0.54, 0.01, 1.13, 0.0, 0.03, 2.0, 1.02, 1.14, None, 0.03, 0.41, 0.14, 0.0, 0.03, 0.47, 0.02, 0.0, 0.0, 0.07, 1.82, 1.41, 0.0, 0.11, 0.0, None, 0.0, 1.09, 0.83, 0.0, 1.75, 0.55, 0.58, 0.8, 0.21, 0.51, None, 0.59, 4.03, 0.4, 0.03, 0.0, 0.0, 0.0, 0.0, 0.03, 0.08, 0.57, 0.01, 0.05, 0.05, 0.04, 0.12, 0.36, 0.9, 0.13, 0.21, 0.0, None, 0.07, 0.43, 0.59, 1.19, 0.43, None, 1.56, 0.01, 1.19, 0.81, 2.21, None, 0.03, 0.1, 0.72, 1.27, 1.62, 0.31, 1.6, 0.0, 0.02, 0.03, 0.42, 0.04, 0.13, 0.01, 0.09, 0.33, 0.03, 0.0, None, 0.15, 0.0, 0.55, 1.24, 0.83, 1.08, 0.38, 1.48, 0.14, 0.14, 1.03, 2.37, 0.9]\n"
     ]
    }
   ],
   "source": [
    "# Convert the December precipitation data to a list.\n",
    "december_prcp_list = [prcp.prcp for prcp in december_temp]\n",
    "print(december_prcp_list)"
   ]
  },
  {
   "cell_type": "code",
   "execution_count": 19,
   "id": "06bcd57e",
   "metadata": {},
   "outputs": [
    {
     "data": {
      "text/html": [
       "<div>\n",
       "<style scoped>\n",
       "    .dataframe tbody tr th:only-of-type {\n",
       "        vertical-align: middle;\n",
       "    }\n",
       "\n",
       "    .dataframe tbody tr th {\n",
       "        vertical-align: top;\n",
       "    }\n",
       "\n",
       "    .dataframe thead th {\n",
       "        text-align: right;\n",
       "    }\n",
       "</style>\n",
       "<table border=\"1\" class=\"dataframe\">\n",
       "  <thead>\n",
       "    <tr style=\"text-align: right;\">\n",
       "      <th></th>\n",
       "      <th>0</th>\n",
       "    </tr>\n",
       "  </thead>\n",
       "  <tbody>\n",
       "    <tr>\n",
       "      <th>0</th>\n",
       "      <td>0.04</td>\n",
       "    </tr>\n",
       "    <tr>\n",
       "      <th>1</th>\n",
       "      <td>0.00</td>\n",
       "    </tr>\n",
       "    <tr>\n",
       "      <th>2</th>\n",
       "      <td>0.00</td>\n",
       "    </tr>\n",
       "    <tr>\n",
       "      <th>3</th>\n",
       "      <td>0.00</td>\n",
       "    </tr>\n",
       "    <tr>\n",
       "      <th>4</th>\n",
       "      <td>0.00</td>\n",
       "    </tr>\n",
       "    <tr>\n",
       "      <th>...</th>\n",
       "      <td>...</td>\n",
       "    </tr>\n",
       "    <tr>\n",
       "      <th>1512</th>\n",
       "      <td>0.14</td>\n",
       "    </tr>\n",
       "    <tr>\n",
       "      <th>1513</th>\n",
       "      <td>0.14</td>\n",
       "    </tr>\n",
       "    <tr>\n",
       "      <th>1514</th>\n",
       "      <td>1.03</td>\n",
       "    </tr>\n",
       "    <tr>\n",
       "      <th>1515</th>\n",
       "      <td>2.37</td>\n",
       "    </tr>\n",
       "    <tr>\n",
       "      <th>1516</th>\n",
       "      <td>0.90</td>\n",
       "    </tr>\n",
       "  </tbody>\n",
       "</table>\n",
       "<p>1517 rows × 1 columns</p>\n",
       "</div>"
      ],
      "text/plain": [
       "         0\n",
       "0     0.04\n",
       "1     0.00\n",
       "2     0.00\n",
       "3     0.00\n",
       "4     0.00\n",
       "...    ...\n",
       "1512  0.14\n",
       "1513  0.14\n",
       "1514  1.03\n",
       "1515  2.37\n",
       "1516  0.90\n",
       "\n",
       "[1517 rows x 1 columns]"
      ]
     },
     "execution_count": 19,
     "metadata": {},
     "output_type": "execute_result"
    }
   ],
   "source": [
    "# Create December Precipitation data frame\n",
    "december_prcp_df = pd.DataFrame(december_prcp_list)\n",
    "december_prcp_df"
   ]
  },
  {
   "cell_type": "code",
   "execution_count": 20,
   "id": "03df35d5",
   "metadata": {},
   "outputs": [
    {
     "data": {
      "text/html": [
       "<div>\n",
       "<style scoped>\n",
       "    .dataframe tbody tr th:only-of-type {\n",
       "        vertical-align: middle;\n",
       "    }\n",
       "\n",
       "    .dataframe tbody tr th {\n",
       "        vertical-align: top;\n",
       "    }\n",
       "\n",
       "    .dataframe thead th {\n",
       "        text-align: right;\n",
       "    }\n",
       "</style>\n",
       "<table border=\"1\" class=\"dataframe\">\n",
       "  <thead>\n",
       "    <tr style=\"text-align: right;\">\n",
       "      <th></th>\n",
       "      <th>December Precipitation (inches)</th>\n",
       "    </tr>\n",
       "  </thead>\n",
       "  <tbody>\n",
       "    <tr>\n",
       "      <th>count</th>\n",
       "      <td>1405.000000</td>\n",
       "    </tr>\n",
       "    <tr>\n",
       "      <th>mean</th>\n",
       "      <td>0.216819</td>\n",
       "    </tr>\n",
       "    <tr>\n",
       "      <th>std</th>\n",
       "      <td>0.541399</td>\n",
       "    </tr>\n",
       "    <tr>\n",
       "      <th>min</th>\n",
       "      <td>0.000000</td>\n",
       "    </tr>\n",
       "    <tr>\n",
       "      <th>25%</th>\n",
       "      <td>0.000000</td>\n",
       "    </tr>\n",
       "    <tr>\n",
       "      <th>50%</th>\n",
       "      <td>0.030000</td>\n",
       "    </tr>\n",
       "    <tr>\n",
       "      <th>75%</th>\n",
       "      <td>0.150000</td>\n",
       "    </tr>\n",
       "    <tr>\n",
       "      <th>max</th>\n",
       "      <td>6.420000</td>\n",
       "    </tr>\n",
       "  </tbody>\n",
       "</table>\n",
       "</div>"
      ],
      "text/plain": [
       "       December Precipitation (inches)\n",
       "count                      1405.000000\n",
       "mean                          0.216819\n",
       "std                           0.541399\n",
       "min                           0.000000\n",
       "25%                           0.000000\n",
       "50%                           0.030000\n",
       "75%                           0.150000\n",
       "max                           6.420000"
      ]
     },
     "execution_count": 20,
     "metadata": {},
     "output_type": "execute_result"
    }
   ],
   "source": [
    "# Calculate and print out the summary statistics for the December Precipitation DataFrame.\n",
    "december_prcp_df.rename(columns={0: \"December Precipitation (inches)\"}).describe()"
   ]
  },
  {
   "cell_type": "code",
   "execution_count": 21,
   "id": "b53f8505",
   "metadata": {},
   "outputs": [
    {
     "data": {
      "image/png": "[encoded data removed]",
      "text/plain": [
       "<Figure size 432x288 with 1 Axes>"
      ]
     },
     "metadata": {},
     "output_type": "display_data"
    }
   ],
   "source": [
    "# Plot December precipitation spread\n",
    "december_prcp_df.plot.hist(bins=20, orientation=\"horizontal\", legend=False)\n",
    "plt.title(\"December Precipitation\")\n",
    "plt.xlim(0,1400)\n",
    "plt.ylim(0,6)\n",
    "plt.tight_layout\n",
    "plt.show()"
   ]
  },
  {
   "cell_type": "code",
   "execution_count": null,
   "id": "74db54e8",
   "metadata": {},
   "outputs": [],
   "source": []
  }
 ],
 "metadata": {
  "kernelspec": {
   "display_name": "Python 3 (ipykernel)",
   "language": "python",
   "name": "python3"
  },
  "language_info": {
   "codemirror_mode": {
    "name": "ipython",
    "version": 3
   },
   "file_extension": ".py",
   "mimetype": "text/x-python",
   "name": "python",
   "nbconvert_exporter": "python",
   "pygments_lexer": "ipython3",
   "version": "3.9.7"
  }
 },
 "nbformat": 4,
 "nbformat_minor": 5
}
